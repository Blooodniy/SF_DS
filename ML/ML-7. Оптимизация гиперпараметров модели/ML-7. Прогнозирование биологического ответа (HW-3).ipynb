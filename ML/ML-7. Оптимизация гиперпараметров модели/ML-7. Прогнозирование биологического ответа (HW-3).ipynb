{
 "cells": [
  {
   "cell_type": "markdown",
   "metadata": {},
   "source": [
    "# <center> ML-7. Прогнозирование биологического ответа (HW-3)\n",
    "#### <center> Необходимо предсказать биологический ответ молекул (столбец *'Activity'*) по их химическому составу (столбцы *D1-D1776*).\n",
    "---"
   ]
  },
  {
   "cell_type": "markdown",
   "metadata": {},
   "source": [
    "[**&#8595; Скачать данные**](https://lms-cdn.skillfactory.ru/assets/courseware/v1/9f2add5bca59f8c4df927432d605fff3/asset-v1:SkillFactory+DST-3.0+28FEB2021+type@asset+block/_train_sem09__1_.zip \"_train_sem09__1_.zip\")"
   ]
  },
  {
   "cell_type": "markdown",
   "metadata": {},
   "source": [
    "Данные представлены в формате CSV.  Каждая строка представляет молекулу. \n",
    "\n",
    "* Первый столбец *Activity* содержит экспериментальные данные, описывающие фактический биологический ответ [0, 1]; \n",
    "* Остальные столбцы *D1-D1776* представляют собой молекулярные **дескрипторы** — это вычисляемые свойства, которые могут фиксировать некоторые характеристики молекулы, например размер, форму или состав элементов.\n",
    "\n",
    "\n",
    "Предварительная обработка не требуется, данные уже закодированы и нормализованы.\n",
    "\n",
    "В качестве метрики будем использовать **F1-score**.\n",
    "\n",
    "Необходимо обучить две модели: **логистическую регрессию** и **случайный лес**. Далее нужно сделать подбор гиперпараметров с помощью базовых и продвинутых методов оптимизации. Важно использовать **все четыре метода** (*GridSeachCV*, *RandomizedSearchCV*, *Hyperopt*, *Optuna*) хотя бы по разу, максимальное количество итераций не должно превышать 50.\n",
    "\n",
    "---"
   ]
  },
  {
   "cell_type": "markdown",
   "metadata": {},
   "source": [
    "### Baseline"
   ]
  },
  {
   "cell_type": "markdown",
   "metadata": {},
   "source": [
    "##### Предобработка"
   ]
  },
  {
   "cell_type": "code",
   "execution_count": 1,
   "metadata": {},
   "outputs": [],
   "source": [
    "import numpy as np\n",
    "import pandas as pd\n",
    "import hyperopt\n",
    "import optuna\n",
    "\n",
    "from sklearn import model_selection\n",
    "from sklearn import linear_model\n",
    "from sklearn import tree\n",
    "from sklearn import ensemble\n",
    "from sklearn import metrics"
   ]
  },
  {
   "cell_type": "code",
   "execution_count": 2,
   "metadata": {},
   "outputs": [
    {
     "data": {
      "text/html": [
       "<div>\n",
       "<style scoped>\n",
       "    .dataframe tbody tr th:only-of-type {\n",
       "        vertical-align: middle;\n",
       "    }\n",
       "\n",
       "    .dataframe tbody tr th {\n",
       "        vertical-align: top;\n",
       "    }\n",
       "\n",
       "    .dataframe thead th {\n",
       "        text-align: right;\n",
       "    }\n",
       "</style>\n",
       "<table border=\"1\" class=\"dataframe\">\n",
       "  <thead>\n",
       "    <tr style=\"text-align: right;\">\n",
       "      <th></th>\n",
       "      <th>Activity</th>\n",
       "      <th>D1</th>\n",
       "      <th>D2</th>\n",
       "      <th>D3</th>\n",
       "      <th>D4</th>\n",
       "      <th>D5</th>\n",
       "      <th>D6</th>\n",
       "      <th>D7</th>\n",
       "      <th>D8</th>\n",
       "      <th>D9</th>\n",
       "      <th>...</th>\n",
       "      <th>D1767</th>\n",
       "      <th>D1768</th>\n",
       "      <th>D1769</th>\n",
       "      <th>D1770</th>\n",
       "      <th>D1771</th>\n",
       "      <th>D1772</th>\n",
       "      <th>D1773</th>\n",
       "      <th>D1774</th>\n",
       "      <th>D1775</th>\n",
       "      <th>D1776</th>\n",
       "    </tr>\n",
       "  </thead>\n",
       "  <tbody>\n",
       "    <tr>\n",
       "      <th>0</th>\n",
       "      <td>1</td>\n",
       "      <td>0.000000</td>\n",
       "      <td>0.497009</td>\n",
       "      <td>0.10</td>\n",
       "      <td>0.0</td>\n",
       "      <td>0.132956</td>\n",
       "      <td>0.678031</td>\n",
       "      <td>0.273166</td>\n",
       "      <td>0.585445</td>\n",
       "      <td>0.743663</td>\n",
       "      <td>...</td>\n",
       "      <td>0</td>\n",
       "      <td>0</td>\n",
       "      <td>0</td>\n",
       "      <td>0</td>\n",
       "      <td>0</td>\n",
       "      <td>0</td>\n",
       "      <td>0</td>\n",
       "      <td>0</td>\n",
       "      <td>0</td>\n",
       "      <td>0</td>\n",
       "    </tr>\n",
       "    <tr>\n",
       "      <th>1</th>\n",
       "      <td>1</td>\n",
       "      <td>0.366667</td>\n",
       "      <td>0.606291</td>\n",
       "      <td>0.05</td>\n",
       "      <td>0.0</td>\n",
       "      <td>0.111209</td>\n",
       "      <td>0.803455</td>\n",
       "      <td>0.106105</td>\n",
       "      <td>0.411754</td>\n",
       "      <td>0.836582</td>\n",
       "      <td>...</td>\n",
       "      <td>1</td>\n",
       "      <td>1</td>\n",
       "      <td>1</td>\n",
       "      <td>1</td>\n",
       "      <td>0</td>\n",
       "      <td>1</td>\n",
       "      <td>0</td>\n",
       "      <td>0</td>\n",
       "      <td>1</td>\n",
       "      <td>0</td>\n",
       "    </tr>\n",
       "    <tr>\n",
       "      <th>2</th>\n",
       "      <td>1</td>\n",
       "      <td>0.033300</td>\n",
       "      <td>0.480124</td>\n",
       "      <td>0.00</td>\n",
       "      <td>0.0</td>\n",
       "      <td>0.209791</td>\n",
       "      <td>0.610350</td>\n",
       "      <td>0.356453</td>\n",
       "      <td>0.517720</td>\n",
       "      <td>0.679051</td>\n",
       "      <td>...</td>\n",
       "      <td>0</td>\n",
       "      <td>0</td>\n",
       "      <td>0</td>\n",
       "      <td>0</td>\n",
       "      <td>0</td>\n",
       "      <td>0</td>\n",
       "      <td>0</td>\n",
       "      <td>0</td>\n",
       "      <td>0</td>\n",
       "      <td>0</td>\n",
       "    </tr>\n",
       "    <tr>\n",
       "      <th>3</th>\n",
       "      <td>1</td>\n",
       "      <td>0.000000</td>\n",
       "      <td>0.538825</td>\n",
       "      <td>0.00</td>\n",
       "      <td>0.5</td>\n",
       "      <td>0.196344</td>\n",
       "      <td>0.724230</td>\n",
       "      <td>0.235606</td>\n",
       "      <td>0.288764</td>\n",
       "      <td>0.805110</td>\n",
       "      <td>...</td>\n",
       "      <td>0</td>\n",
       "      <td>0</td>\n",
       "      <td>0</td>\n",
       "      <td>0</td>\n",
       "      <td>0</td>\n",
       "      <td>0</td>\n",
       "      <td>0</td>\n",
       "      <td>0</td>\n",
       "      <td>0</td>\n",
       "      <td>0</td>\n",
       "    </tr>\n",
       "    <tr>\n",
       "      <th>4</th>\n",
       "      <td>0</td>\n",
       "      <td>0.100000</td>\n",
       "      <td>0.517794</td>\n",
       "      <td>0.00</td>\n",
       "      <td>0.0</td>\n",
       "      <td>0.494734</td>\n",
       "      <td>0.781422</td>\n",
       "      <td>0.154361</td>\n",
       "      <td>0.303809</td>\n",
       "      <td>0.812646</td>\n",
       "      <td>...</td>\n",
       "      <td>0</td>\n",
       "      <td>0</td>\n",
       "      <td>0</td>\n",
       "      <td>0</td>\n",
       "      <td>0</td>\n",
       "      <td>0</td>\n",
       "      <td>0</td>\n",
       "      <td>0</td>\n",
       "      <td>0</td>\n",
       "      <td>0</td>\n",
       "    </tr>\n",
       "  </tbody>\n",
       "</table>\n",
       "<p>5 rows × 1777 columns</p>\n",
       "</div>"
      ],
      "text/plain": [
       "   Activity        D1        D2    D3   D4        D5        D6        D7  \\\n",
       "0         1  0.000000  0.497009  0.10  0.0  0.132956  0.678031  0.273166   \n",
       "1         1  0.366667  0.606291  0.05  0.0  0.111209  0.803455  0.106105   \n",
       "2         1  0.033300  0.480124  0.00  0.0  0.209791  0.610350  0.356453   \n",
       "3         1  0.000000  0.538825  0.00  0.5  0.196344  0.724230  0.235606   \n",
       "4         0  0.100000  0.517794  0.00  0.0  0.494734  0.781422  0.154361   \n",
       "\n",
       "         D8        D9  ...  D1767  D1768  D1769  D1770  D1771  D1772  D1773  \\\n",
       "0  0.585445  0.743663  ...      0      0      0      0      0      0      0   \n",
       "1  0.411754  0.836582  ...      1      1      1      1      0      1      0   \n",
       "2  0.517720  0.679051  ...      0      0      0      0      0      0      0   \n",
       "3  0.288764  0.805110  ...      0      0      0      0      0      0      0   \n",
       "4  0.303809  0.812646  ...      0      0      0      0      0      0      0   \n",
       "\n",
       "   D1774  D1775  D1776  \n",
       "0      0      0      0  \n",
       "1      0      1      0  \n",
       "2      0      0      0  \n",
       "3      0      0      0  \n",
       "4      0      0      0  \n",
       "\n",
       "[5 rows x 1777 columns]"
      ]
     },
     "execution_count": 2,
     "metadata": {},
     "output_type": "execute_result"
    }
   ],
   "source": [
    "data = pd.read_csv('data/_train_sem09 (1).csv')\n",
    "data.head()"
   ]
  },
  {
   "cell_type": "code",
   "execution_count": 3,
   "metadata": {},
   "outputs": [
    {
     "data": {
      "text/plain": [
       "Activity\n",
       "1    0.542255\n",
       "0    0.457745\n",
       "Name: proportion, dtype: float64"
      ]
     },
     "execution_count": 3,
     "metadata": {},
     "output_type": "execute_result"
    }
   ],
   "source": [
    "data['Activity'].value_counts(True)"
   ]
  },
  {
   "cell_type": "markdown",
   "metadata": {},
   "source": [
    "Дисбаланс классов небольшой. Но стратификацию всё равно лучше оставить."
   ]
  },
  {
   "cell_type": "code",
   "execution_count": 4,
   "metadata": {},
   "outputs": [],
   "source": [
    "X = data.drop('Activity', axis=1)\n",
    "y = data['Activity']\n",
    "X_train, X_test, y_train, y_test = model_selection.train_test_split(X, y, stratify=y, random_state = 42, test_size = 0.2)"
   ]
  },
  {
   "cell_type": "markdown",
   "metadata": {},
   "source": [
    "##### Обучение с параметрами по умолчанию"
   ]
  },
  {
   "cell_type": "markdown",
   "metadata": {},
   "source": [
    "Сначала обучим модели с параметрами по умолчанию кроме random_state и max_iter."
   ]
  },
  {
   "cell_type": "markdown",
   "metadata": {},
   "source": [
    "LogisticRegression"
   ]
  },
  {
   "cell_type": "code",
   "execution_count": 5,
   "metadata": {},
   "outputs": [
    {
     "name": "stdout",
     "output_type": "stream",
     "text": [
      "LogisticRegression test f1-score: 0.78\n"
     ]
    }
   ],
   "source": [
    "log_reg = linear_model.LogisticRegression(random_state=42, max_iter=1000)\n",
    "log_reg.fit(X_train, y_train)\n",
    "y_test_pred_lr = log_reg.predict(X_test)\n",
    "print('LogisticRegression test f1-score: {:.2f}'.format(metrics.f1_score(y_test, y_test_pred_lr)))"
   ]
  },
  {
   "cell_type": "markdown",
   "metadata": {},
   "source": [
    "RandomForestClassifier"
   ]
  },
  {
   "cell_type": "code",
   "execution_count": 6,
   "metadata": {},
   "outputs": [
    {
     "name": "stdout",
     "output_type": "stream",
     "text": [
      "RandomForestClassifier test f1-score: 0.80\n"
     ]
    }
   ],
   "source": [
    "rf_clf = ensemble.RandomForestClassifier(random_state=42)\n",
    "rf_clf.fit(X_train, y_train)\n",
    "y_test_pred_rf = rf_clf.predict(X_test)\n",
    "print('RandomForestClassifier test f1-score: {:.2f}'.format(metrics.f1_score(y_test, y_test_pred_rf)))"
   ]
  },
  {
   "cell_type": "markdown",
   "metadata": {},
   "source": [
    "Видно что обе модели даже с параметрами по умолчанию дают хорошие значения метрики. Случайный лес чуть лучше."
   ]
  },
  {
   "cell_type": "markdown",
   "metadata": {},
   "source": [
    "---\n",
    "### Подбор гиперпараметров"
   ]
  },
  {
   "cell_type": "markdown",
   "metadata": {},
   "source": [
    "##### GridSearchCV"
   ]
  },
  {
   "cell_type": "markdown",
   "metadata": {},
   "source": [
    "LogisticRegression"
   ]
  },
  {
   "cell_type": "code",
   "execution_count": 7,
   "metadata": {},
   "outputs": [],
   "source": [
    "# Задаём сетку параметров\n",
    "# Т.к. разные алгоритмы поддерживают разные типы регуляризации, зададим два словаря\n",
    "param_grid_lr = [\n",
    "              {'penalty': ['l2', 'none'],\n",
    "                'C': list(np.linspace(0.01, 1, 10, dtype=float)),\n",
    "               'solver': ['lbfgs', 'saga']},\n",
    "              \n",
    "              {'penalty': ['l1', 'l2'],\n",
    "                'C': list(np.linspace(0.01, 1, 10, dtype=float)),\n",
    "               'solver': ['liblinear']}\n",
    "             ]"
   ]
  },
  {
   "cell_type": "code",
   "execution_count": 8,
   "metadata": {},
   "outputs": [],
   "source": [
    "grid_search_lr = model_selection.GridSearchCV(\n",
    "    # Модель\n",
    "    estimator=linear_model.LogisticRegression(random_state=42, max_iter=1000), \n",
    "    # Сетка параметров\n",
    "    param_grid=param_grid_lr, \n",
    "    # Количество фолдов для кросс-валидации\n",
    "    cv=5,\n",
    "    # Все доступные ядра\n",
    "    n_jobs = -1\n",
    ")"
   ]
  },
  {
   "cell_type": "code",
   "execution_count": 9,
   "metadata": {},
   "outputs": [
    {
     "name": "stdout",
     "output_type": "stream",
     "text": [
      "Best parameters: {'C': 0.45, 'penalty': 'l1', 'solver': 'liblinear'}\n",
      "LogisticRegression GridSearchCV test f1-score: 0.78\n"
     ]
    }
   ],
   "source": [
    "grid_search_lr.fit(X_train, y_train)\n",
    "# Выводим лучшие значения гиперпараметров\n",
    "print(\"Best parameters: {}\".format(grid_search_lr.best_params_))\n",
    "# Считаем f1-меру\n",
    "y_test_pred_lr_gs = grid_search_lr.predict(X_test)\n",
    "print('LogisticRegression GridSearchCV test f1-score: {:.2f}'.format(metrics.f1_score(y_test, y_test_pred_lr_gs)))"
   ]
  },
  {
   "cell_type": "markdown",
   "metadata": {},
   "source": [
    "RandomForestClassifier"
   ]
  },
  {
   "cell_type": "code",
   "execution_count": 10,
   "metadata": {},
   "outputs": [],
   "source": [
    "param_grid_rf = [\n",
    "              {'n_estimators': list(np.linspace(100, 500, 5, dtype=int)),\n",
    "                'criterion': ['gini', 'entropy'],\n",
    "               'max_depth': list(np.linspace(5, 30, 6, dtype=int)),\n",
    "               'min_samples_leaf': list(np.linspace(1, 30, 5, dtype=int))}\n",
    "             ]"
   ]
  },
  {
   "cell_type": "code",
   "execution_count": 11,
   "metadata": {},
   "outputs": [],
   "source": [
    "grid_search_rf = model_selection.GridSearchCV(\n",
    "    estimator=ensemble.RandomForestClassifier(random_state=42), \n",
    "    param_grid=param_grid_rf, \n",
    "    cv=5,\n",
    "    n_jobs = -1\n",
    ")"
   ]
  },
  {
   "cell_type": "code",
   "execution_count": 12,
   "metadata": {},
   "outputs": [
    {
     "name": "stdout",
     "output_type": "stream",
     "text": [
      "Best parameters: {'criterion': 'gini', 'max_depth': 15, 'min_samples_leaf': 1, 'n_estimators': 200}\n",
      "RandomForestClassifier GridSearchCV test f1-score: 0.81\n"
     ]
    }
   ],
   "source": [
    "grid_search_rf.fit(X_train, y_train)\n",
    "print(\"Best parameters: {}\".format(grid_search_rf.best_params_))\n",
    "\n",
    "y_test_pred_rf_gs = grid_search_rf.predict(X_test)\n",
    "print('RandomForestClassifier GridSearchCV test f1-score: {:.2f}'.format(metrics.f1_score(y_test, y_test_pred_rf_gs)))"
   ]
  },
  {
   "cell_type": "markdown",
   "metadata": {},
   "source": [
    "Как видно, метрика на логистической регресси не изменилась, а на случайном лесе подросла незначительно. При этом время работы существенно вазросло.\n",
    "\n",
    "---"
   ]
  },
  {
   "cell_type": "markdown",
   "metadata": {},
   "source": [
    "##### RandomizedSearchCV"
   ]
  },
  {
   "cell_type": "markdown",
   "metadata": {},
   "source": [
    "Будем использовать те же сетки параметров, что и в GridSearchCV."
   ]
  },
  {
   "cell_type": "markdown",
   "metadata": {},
   "source": [
    "LogisticRegression"
   ]
  },
  {
   "cell_type": "code",
   "execution_count": 13,
   "metadata": {},
   "outputs": [
    {
     "name": "stdout",
     "output_type": "stream",
     "text": [
      "Best parameters: {'solver': 'liblinear', 'penalty': 'l1', 'C': 0.34}\n",
      "LogisticRegression RandomizedSearchCV test f1-score: 0.78\n"
     ]
    }
   ],
   "source": [
    "param_distributions_lr = param_grid_lr\n",
    "\n",
    "random_search_lr = model_selection.RandomizedSearchCV(\n",
    "    estimator=linear_model.LogisticRegression(random_state=42, max_iter=1000), \n",
    "    param_distributions=param_distributions_lr, \n",
    "    cv=5,\n",
    "    # В GridSearchCV было 60 комбинаций, попробуем оставить половину\n",
    "    n_iter = 30, \n",
    "    n_jobs = -1\n",
    ")\n",
    "# Выводим значения оптимальных параметров и метрику\n",
    "random_search_lr.fit(X_train, y_train)\n",
    "print(\"Best parameters: {}\".format(random_search_lr.best_params_))\n",
    "\n",
    "y_test_pred_lr_rs = random_search_lr.predict(X_test)\n",
    "print('LogisticRegression RandomizedSearchCV test f1-score: {:.2f}'.format(metrics.f1_score(y_test, y_test_pred_lr_rs)))"
   ]
  },
  {
   "cell_type": "markdown",
   "metadata": {},
   "source": [
    "Метрика и набор параметров такие же, как в GridSearchCV, зато время существенно сократилось."
   ]
  },
  {
   "cell_type": "markdown",
   "metadata": {},
   "source": [
    "RandomForestClassifier"
   ]
  },
  {
   "cell_type": "code",
   "execution_count": 14,
   "metadata": {},
   "outputs": [
    {
     "name": "stdout",
     "output_type": "stream",
     "text": [
      "Best parameters: {'n_estimators': 200, 'min_samples_leaf': 1, 'max_depth': 20, 'criterion': 'entropy'}\n",
      "RandomForestClassifier RandomizedSearchCV test f1-score: 0.80\n"
     ]
    }
   ],
   "source": [
    "param_distributions_rf = param_grid_rf\n",
    "\n",
    "random_search_rf = model_selection.RandomizedSearchCV(\n",
    "    estimator=ensemble.RandomForestClassifier(random_state=42), \n",
    "    param_distributions=param_distributions_rf, \n",
    "    cv=5,\n",
    "    # Количество итераций поставим максимальное из возможных по условию\n",
    "    n_iter = 50, \n",
    "    n_jobs = -1\n",
    ")\n",
    "# Выводим значения оптимальных параметров и метрику\n",
    "random_search_rf.fit(X_train, y_train)\n",
    "print(\"Best parameters: {}\".format(random_search_rf.best_params_))\n",
    "\n",
    "y_test_pred_rf_rs = random_search_rf.predict(X_test)\n",
    "print('RandomForestClassifier RandomizedSearchCV test f1-score: {:.2f}'.format(metrics.f1_score(y_test, y_test_pred_rf_rs)))"
   ]
  },
  {
   "cell_type": "markdown",
   "metadata": {},
   "source": [
    "Метрика немного просела по сравнению с GridSearchCV, видимо случайным образом не была выбрана оптимальная комбинация параметров, но время сократилось в разы.\n",
    "\n",
    "---"
   ]
  },
  {
   "cell_type": "markdown",
   "metadata": {},
   "source": [
    "##### Hyperopt"
   ]
  },
  {
   "cell_type": "markdown",
   "metadata": {},
   "source": [
    "LogisticRegression"
   ]
  },
  {
   "cell_type": "code",
   "execution_count": 15,
   "metadata": {},
   "outputs": [],
   "source": [
    "# Создадим списки категориальных параметров, чтобы можно было обратиться по индексам\n",
    "penalty = ['l2', None]\n",
    "solver = ['lbfgs', 'newton-cg', 'sag']\n",
    "# Задаём пространство параметров\n",
    "space_lr = {'penalty': hyperopt.hp.choice('penalty', penalty),\n",
    "         'C': hyperopt.hp.quniform('C', 0.01, 1, 0.01),\n",
    "         'solver': hyperopt.hp.choice('solver', solver)}\n",
    "# фиксируем random_state\n",
    "random_state=42"
   ]
  },
  {
   "cell_type": "code",
   "execution_count": 16,
   "metadata": {},
   "outputs": [],
   "source": [
    "# Задаём целевую функцию\n",
    "def hyperopt_lr(params, cv=5, X=X_train, y=y_train, random_state=random_state):\n",
    "    \n",
    "    # Создаём и обучаем модель\n",
    "    model = linear_model.LogisticRegression(**params, random_state=random_state, max_iter=1000)\n",
    "    model.fit(X, y)\n",
    "    # Используем кросс-валидацию\n",
    "    score = model_selection.cross_val_score(model, X, y, cv=cv, scoring=\"f1\", n_jobs=-1).mean()\n",
    "\n",
    "    return -score"
   ]
  },
  {
   "cell_type": "code",
   "execution_count": 17,
   "metadata": {},
   "outputs": [
    {
     "name": "stdout",
     "output_type": "stream",
     "text": [
      "  0%|          | 0/20 [00:00<?, ?trial/s, best loss=?]"
     ]
    },
    {
     "name": "stderr",
     "output_type": "stream",
     "text": [
      "c:\\Users\\Blooodniy\\AppData\\Local\\Programs\\Python\\Python39\\lib\\site-packages\\sklearn\\linear_model\\_logistic.py:1193: UserWarning: Setting penalty=None will ignore the C and l1_ratio parameters\n",
      "  warnings.warn(\n",
      "\n",
      "c:\\Users\\Blooodniy\\AppData\\Local\\Programs\\Python\\Python39\\lib\\site-packages\\sklearn\\linear_model\\_logistic.py:460: ConvergenceWarning: lbfgs failed to converge (status=1):\n",
      "STOP: TOTAL NO. of ITERATIONS REACHED LIMIT.\n",
      "\n",
      "Increase the number of iterations (max_iter) or scale the data as shown in:\n",
      "    https://scikit-learn.org/stable/modules/preprocessing.html\n",
      "Please also refer to the documentation for alternative solver options:\n",
      "    https://scikit-learn.org/stable/modules/linear_model.html#logistic-regression\n",
      "  n_iter_i = _check_optimize_result(\n",
      "\n"
     ]
    },
    {
     "name": "stdout",
     "output_type": "stream",
     "text": [
      " 20%|██        | 4/20 [01:03<03:24, 12.75s/trial, best loss: -0.7874539264350459]"
     ]
    },
    {
     "name": "stderr",
     "output_type": "stream",
     "text": [
      "c:\\Users\\Blooodniy\\AppData\\Local\\Programs\\Python\\Python39\\lib\\site-packages\\sklearn\\linear_model\\_logistic.py:1193: UserWarning: Setting penalty=None will ignore the C and l1_ratio parameters\n",
      "  warnings.warn(\n",
      "\n",
      "c:\\Users\\Blooodniy\\AppData\\Local\\Programs\\Python\\Python39\\lib\\site-packages\\sklearn\\linear_model\\_logistic.py:460: ConvergenceWarning: lbfgs failed to converge (status=1):\n",
      "STOP: TOTAL NO. of ITERATIONS REACHED LIMIT.\n",
      "\n",
      "Increase the number of iterations (max_iter) or scale the data as shown in:\n",
      "    https://scikit-learn.org/stable/modules/preprocessing.html\n",
      "Please also refer to the documentation for alternative solver options:\n",
      "    https://scikit-learn.org/stable/modules/linear_model.html#logistic-regression\n",
      "  n_iter_i = _check_optimize_result(\n",
      "\n"
     ]
    },
    {
     "name": "stdout",
     "output_type": "stream",
     "text": [
      " 25%|██▌       | 5/20 [01:17<03:17, 13.18s/trial, best loss: -0.7874539264350459]"
     ]
    },
    {
     "name": "stderr",
     "output_type": "stream",
     "text": [
      "c:\\Users\\Blooodniy\\AppData\\Local\\Programs\\Python\\Python39\\lib\\site-packages\\sklearn\\linear_model\\_logistic.py:1193: UserWarning: Setting penalty=None will ignore the C and l1_ratio parameters\n",
      "  warnings.warn(\n",
      "\n",
      "c:\\Users\\Blooodniy\\AppData\\Local\\Programs\\Python\\Python39\\lib\\site-packages\\sklearn\\linear_model\\_sag.py:350: ConvergenceWarning: The max_iter was reached which means the coef_ did not converge\n",
      "  warnings.warn(\n",
      "\n"
     ]
    },
    {
     "name": "stdout",
     "output_type": "stream",
     "text": [
      " 30%|███       | 6/20 [02:50<09:23, 40.28s/trial, best loss: -0.7874539264350459]"
     ]
    },
    {
     "name": "stderr",
     "output_type": "stream",
     "text": [
      "c:\\Users\\Blooodniy\\AppData\\Local\\Programs\\Python\\Python39\\lib\\site-packages\\sklearn\\linear_model\\_sag.py:350: ConvergenceWarning: The max_iter was reached which means the coef_ did not converge\n",
      "  warnings.warn(\n",
      "\n"
     ]
    },
    {
     "name": "stdout",
     "output_type": "stream",
     "text": [
      " 40%|████      | 8/20 [04:31<08:20, 41.70s/trial, best loss: -0.7874539264350459]"
     ]
    },
    {
     "name": "stderr",
     "output_type": "stream",
     "text": [
      "c:\\Users\\Blooodniy\\AppData\\Local\\Programs\\Python\\Python39\\lib\\site-packages\\sklearn\\linear_model\\_logistic.py:1193: UserWarning: Setting penalty=None will ignore the C and l1_ratio parameters\n",
      "  warnings.warn(\n",
      "\n",
      "c:\\Users\\Blooodniy\\AppData\\Local\\Programs\\Python\\Python39\\lib\\site-packages\\sklearn\\linear_model\\_logistic.py:460: ConvergenceWarning: lbfgs failed to converge (status=1):\n",
      "STOP: TOTAL NO. of ITERATIONS REACHED LIMIT.\n",
      "\n",
      "Increase the number of iterations (max_iter) or scale the data as shown in:\n",
      "    https://scikit-learn.org/stable/modules/preprocessing.html\n",
      "Please also refer to the documentation for alternative solver options:\n",
      "    https://scikit-learn.org/stable/modules/linear_model.html#logistic-regression\n",
      "  n_iter_i = _check_optimize_result(\n",
      "\n"
     ]
    },
    {
     "name": "stdout",
     "output_type": "stream",
     "text": [
      " 55%|█████▌    | 11/20 [05:32<03:54, 26.10s/trial, best loss: -0.7902171664645037]"
     ]
    },
    {
     "name": "stderr",
     "output_type": "stream",
     "text": [
      "c:\\Users\\Blooodniy\\AppData\\Local\\Programs\\Python\\Python39\\lib\\site-packages\\sklearn\\linear_model\\_logistic.py:1193: UserWarning: Setting penalty=None will ignore the C and l1_ratio parameters\n",
      "  warnings.warn(\n",
      "\n",
      "c:\\Users\\Blooodniy\\AppData\\Local\\Programs\\Python\\Python39\\lib\\site-packages\\sklearn\\linear_model\\_sag.py:350: ConvergenceWarning: The max_iter was reached which means the coef_ did not converge\n",
      "  warnings.warn(\n",
      "\n"
     ]
    },
    {
     "name": "stdout",
     "output_type": "stream",
     "text": [
      " 75%|███████▌  | 15/20 [08:00<02:19, 27.90s/trial, best loss: -0.7902171664645037]"
     ]
    },
    {
     "name": "stderr",
     "output_type": "stream",
     "text": [
      "c:\\Users\\Blooodniy\\AppData\\Local\\Programs\\Python\\Python39\\lib\\site-packages\\sklearn\\linear_model\\_logistic.py:1193: UserWarning: Setting penalty=None will ignore the C and l1_ratio parameters\n",
      "  warnings.warn(\n",
      "\n",
      "c:\\Users\\Blooodniy\\AppData\\Local\\Programs\\Python\\Python39\\lib\\site-packages\\sklearn\\linear_model\\_logistic.py:460: ConvergenceWarning: lbfgs failed to converge (status=1):\n",
      "STOP: TOTAL NO. of ITERATIONS REACHED LIMIT.\n",
      "\n",
      "Increase the number of iterations (max_iter) or scale the data as shown in:\n",
      "    https://scikit-learn.org/stable/modules/preprocessing.html\n",
      "Please also refer to the documentation for alternative solver options:\n",
      "    https://scikit-learn.org/stable/modules/linear_model.html#logistic-regression\n",
      "  n_iter_i = _check_optimize_result(\n",
      "\n"
     ]
    },
    {
     "name": "stdout",
     "output_type": "stream",
     "text": [
      " 80%|████████  | 16/20 [08:12<01:33, 23.39s/trial, best loss: -0.7902171664645037]"
     ]
    },
    {
     "name": "stderr",
     "output_type": "stream",
     "text": [
      "c:\\Users\\Blooodniy\\AppData\\Local\\Programs\\Python\\Python39\\lib\\site-packages\\sklearn\\linear_model\\_logistic.py:1193: UserWarning: Setting penalty=None will ignore the C and l1_ratio parameters\n",
      "  warnings.warn(\n",
      "\n",
      "c:\\Users\\Blooodniy\\AppData\\Local\\Programs\\Python\\Python39\\lib\\site-packages\\sklearn\\linear_model\\_sag.py:350: ConvergenceWarning: The max_iter was reached which means the coef_ did not converge\n",
      "  warnings.warn(\n",
      "\n"
     ]
    },
    {
     "name": "stdout",
     "output_type": "stream",
     "text": [
      "100%|██████████| 20/20 [10:29<00:00, 31.48s/trial, best loss: -0.7902171664645037]\n"
     ]
    }
   ],
   "source": [
    "# Логируем результаты\n",
    "trials_lr = hyperopt.Trials() \n",
    "\n",
    "best_params_lr = hyperopt.fmin(hyperopt_lr,\n",
    "          space=space_lr,\n",
    "          algo=hyperopt.tpe.suggest,\n",
    "          max_evals=20,\n",
    "          trials=trials_lr, \n",
    "          rstate=np.random.default_rng(random_state)\n",
    "         )"
   ]
  },
  {
   "cell_type": "markdown",
   "metadata": {},
   "source": [
    "Даёт много предупреждений, но если сильно увеличить max_iter, то время слишком сильно возрастёт."
   ]
  },
  {
   "cell_type": "code",
   "execution_count": 18,
   "metadata": {},
   "outputs": [
    {
     "name": "stdout",
     "output_type": "stream",
     "text": [
      "Best parameters: {'C': 0.05, 'penalty': 'l2', 'solver': 'lbfgs'}\n",
      "LogisticRegression Hyperopt test f1-score: 0.79\n"
     ]
    }
   ],
   "source": [
    "# Создаём словарь с оптимальными параметрами\n",
    "best_lr = {'C': best_params_lr['C'], 'penalty': penalty[best_params_lr['penalty']], 'solver': solver[best_params_lr['solver']]}\n",
    "print(\"Best parameters: {}\".format(best_lr))\n",
    "# Обучаем модель с оптимальными параметрами\n",
    "lr_ho = linear_model.LogisticRegression(\n",
    "    **best_lr,\n",
    "    random_state=random_state,\n",
    "    max_iter=1000\n",
    ")\n",
    "\n",
    "lr_ho.fit(X_train, y_train)\n",
    "\n",
    "y_test_pred_lr_ho = lr_ho.predict(X_test)\n",
    "\n",
    "print('LogisticRegression Hyperopt test f1-score: {:.2f}'.format(metrics.f1_score(y_test, y_test_pred_lr_ho)))"
   ]
  },
  {
   "cell_type": "markdown",
   "metadata": {},
   "source": [
    "RandomForestClassifier"
   ]
  },
  {
   "cell_type": "code",
   "execution_count": 19,
   "metadata": {},
   "outputs": [],
   "source": [
    "criterion = ['gini', 'entropy']\n",
    "\n",
    "space_rf = {'n_estimators': hyperopt.hp.quniform('n_estimators', 100, 500, 10),\n",
    "            'criterion': hyperopt.hp.choice('criterion', criterion),\n",
    "            'max_depth': hyperopt.hp.quniform('max_depth', 5, 30, 1),\n",
    "            'min_samples_leaf': hyperopt.hp.quniform('min_samples_leaf', 2, 30, 1)}"
   ]
  },
  {
   "cell_type": "code",
   "execution_count": 20,
   "metadata": {},
   "outputs": [],
   "source": [
    "def hyperopt_rf(params, cv=5, X=X_train, y=y_train, random_state=random_state):\n",
    "    \n",
    "    params = {'n_estimators': int(params['n_estimators']), \n",
    "              'max_depth': int(params['max_depth']), \n",
    "             'min_samples_leaf': int(params['min_samples_leaf'])}\n",
    "    \n",
    "    model = ensemble.RandomForestClassifier(**params, random_state=random_state)\n",
    "    model.fit(X, y)\n",
    "\n",
    "    score = model_selection.cross_val_score(model, X, y, cv=cv, scoring=\"f1\", n_jobs=-1).mean()\n",
    "\n",
    "    return -score"
   ]
  },
  {
   "cell_type": "code",
   "execution_count": 21,
   "metadata": {},
   "outputs": [
    {
     "name": "stdout",
     "output_type": "stream",
     "text": [
      "100%|██████████| 20/20 [02:44<00:00,  8.23s/trial, best loss: -0.811118376235045]\n"
     ]
    }
   ],
   "source": [
    "trials_rf = hyperopt.Trials() \n",
    "\n",
    "best_params_rf = hyperopt.fmin(hyperopt_rf,\n",
    "          space=space_rf,\n",
    "          algo=hyperopt.tpe.suggest,\n",
    "          max_evals=20,\n",
    "          trials=trials_rf, \n",
    "          rstate=np.random.default_rng(random_state)\n",
    "         )"
   ]
  },
  {
   "cell_type": "code",
   "execution_count": 22,
   "metadata": {},
   "outputs": [
    {
     "name": "stdout",
     "output_type": "stream",
     "text": [
      "Best parameters: {'n_estimators': 160, 'criterion': 'entropy', 'max_depth': 20, 'min_samples_leaf': 4}\n",
      "LogisticRegression Hyperopt test f1-score: 0.80\n"
     ]
    }
   ],
   "source": [
    "best_rf = {'n_estimators': int(best_params_rf['n_estimators']), \n",
    "           'criterion': criterion[best_params_rf['criterion']], \n",
    "           'max_depth': int(best_params_rf['max_depth']), \n",
    "           'min_samples_leaf': int(best_params_rf['min_samples_leaf'])}\n",
    "print(\"Best parameters: {}\".format(best_rf))\n",
    "\n",
    "rf_ho = ensemble.RandomForestClassifier(\n",
    "    **best_rf,\n",
    "    random_state=random_state\n",
    ")\n",
    "\n",
    "rf_ho.fit(X_train, y_train)\n",
    "\n",
    "y_test_pred_rf_ho = rf_ho.predict(X_test)\n",
    "\n",
    "print('LogisticRegression Hyperopt test f1-score: {:.2f}'.format(metrics.f1_score(y_test, y_test_pred_rf_ho)))"
   ]
  },
  {
   "cell_type": "markdown",
   "metadata": {},
   "source": [
    "У логистической регрессии метрика подросла, но при этом время выполнения для неё достаточно высокое. Метрика на случайном лесе осталась такой же, зато время выполнения существенно сократилась.\n",
    "\n",
    "---"
   ]
  },
  {
   "cell_type": "markdown",
   "metadata": {},
   "source": [
    "##### Optuna"
   ]
  },
  {
   "cell_type": "markdown",
   "metadata": {},
   "source": [
    "LogisticRegression"
   ]
  },
  {
   "cell_type": "code",
   "execution_count": 23,
   "metadata": {},
   "outputs": [],
   "source": [
    "def optuna_lr(trial):\n",
    "    # Пространство гиперпараметров\n",
    "    penalty = trial.suggest_categorical('penalty', ['l2', None])\n",
    "    solver = trial.suggest_categorical('solver', ['lbfgs', 'newton-cg', 'sag'])\n",
    "    C = trial.suggest_float('C', 0.01, 1)\n",
    "    # Модель\n",
    "    model = linear_model.LogisticRegression(penalty=penalty,\n",
    "                                            solver=solver,\n",
    "                                            C=C,\n",
    "                                            random_state=random_state,\n",
    "                                            max_iter=1000)\n",
    "    # Обучаем модель\n",
    "    model.fit(X_train, y_train)\n",
    "    # Считаем и возвращаем метрику\n",
    "    score = model_selection.cross_val_score(model, X_train, y_train, cv=5, scoring=\"f1\", n_jobs=-1).mean()\n",
    "    return score"
   ]
  },
  {
   "cell_type": "code",
   "execution_count": 24,
   "metadata": {},
   "outputs": [
    {
     "name": "stderr",
     "output_type": "stream",
     "text": [
      "[I 2024-06-11 22:05:41,679] A new study created in memory with name: LogisticRegression\n",
      "c:\\Users\\Blooodniy\\AppData\\Local\\Programs\\Python\\Python39\\lib\\site-packages\\sklearn\\linear_model\\_logistic.py:1193: UserWarning: Setting penalty=None will ignore the C and l1_ratio parameters\n",
      "  warnings.warn(\n",
      "c:\\Users\\Blooodniy\\AppData\\Local\\Programs\\Python\\Python39\\lib\\site-packages\\scipy\\optimize\\_linesearch.py:314: LineSearchWarning: The line search algorithm did not converge\n",
      "  warn('The line search algorithm did not converge', LineSearchWarning)\n",
      "c:\\Users\\Blooodniy\\AppData\\Local\\Programs\\Python\\Python39\\lib\\site-packages\\sklearn\\utils\\optimize.py:204: UserWarning: Line Search failed\n",
      "  warnings.warn(\"Line Search failed\")\n",
      "[I 2024-06-11 22:06:26,067] Trial 0 finished with value: 0.7127612076011095 and parameters: {'penalty': None, 'solver': 'newton-cg', 'C': 0.6203703931216903}. Best is trial 0 with value: 0.7127612076011095.\n",
      "c:\\Users\\Blooodniy\\AppData\\Local\\Programs\\Python\\Python39\\lib\\site-packages\\sklearn\\linear_model\\_logistic.py:1193: UserWarning: Setting penalty=None will ignore the C and l1_ratio parameters\n",
      "  warnings.warn(\n",
      "c:\\Users\\Blooodniy\\AppData\\Local\\Programs\\Python\\Python39\\lib\\site-packages\\sklearn\\linear_model\\_sag.py:350: ConvergenceWarning: The max_iter was reached which means the coef_ did not converge\n",
      "  warnings.warn(\n",
      "[I 2024-06-11 22:07:55,187] Trial 1 finished with value: 0.7597800660015992 and parameters: {'penalty': None, 'solver': 'sag', 'C': 0.10302143030143739}. Best is trial 1 with value: 0.7597800660015992.\n",
      "c:\\Users\\Blooodniy\\AppData\\Local\\Programs\\Python\\Python39\\lib\\site-packages\\sklearn\\linear_model\\_logistic.py:1193: UserWarning: Setting penalty=None will ignore the C and l1_ratio parameters\n",
      "  warnings.warn(\n",
      "c:\\Users\\Blooodniy\\AppData\\Local\\Programs\\Python\\Python39\\lib\\site-packages\\scipy\\optimize\\_linesearch.py:314: LineSearchWarning: The line search algorithm did not converge\n",
      "  warn('The line search algorithm did not converge', LineSearchWarning)\n",
      "c:\\Users\\Blooodniy\\AppData\\Local\\Programs\\Python\\Python39\\lib\\site-packages\\sklearn\\utils\\optimize.py:204: UserWarning: Line Search failed\n",
      "  warnings.warn(\"Line Search failed\")\n",
      "[I 2024-06-11 22:08:37,442] Trial 2 finished with value: 0.7127612076011095 and parameters: {'penalty': None, 'solver': 'newton-cg', 'C': 0.5134084668616292}. Best is trial 1 with value: 0.7597800660015992.\n",
      "[I 2024-06-11 22:08:43,661] Trial 3 finished with value: 0.7801826921355556 and parameters: {'penalty': 'l2', 'solver': 'newton-cg', 'C': 0.4879172301642878}. Best is trial 3 with value: 0.7801826921355556.\n",
      "c:\\Users\\Blooodniy\\AppData\\Local\\Programs\\Python\\Python39\\lib\\site-packages\\sklearn\\linear_model\\_logistic.py:1193: UserWarning: Setting penalty=None will ignore the C and l1_ratio parameters\n",
      "  warnings.warn(\n",
      "c:\\Users\\Blooodniy\\AppData\\Local\\Programs\\Python\\Python39\\lib\\site-packages\\scipy\\optimize\\_linesearch.py:314: LineSearchWarning: The line search algorithm did not converge\n",
      "  warn('The line search algorithm did not converge', LineSearchWarning)\n",
      "c:\\Users\\Blooodniy\\AppData\\Local\\Programs\\Python\\Python39\\lib\\site-packages\\sklearn\\utils\\optimize.py:204: UserWarning: Line Search failed\n",
      "  warnings.warn(\"Line Search failed\")\n",
      "[I 2024-06-11 22:09:25,143] Trial 4 finished with value: 0.7127612076011095 and parameters: {'penalty': None, 'solver': 'newton-cg', 'C': 0.2258859744831808}. Best is trial 3 with value: 0.7801826921355556.\n",
      "[I 2024-06-11 22:10:03,429] Trial 5 finished with value: 0.7817346478869689 and parameters: {'penalty': 'l2', 'solver': 'sag', 'C': 0.20288214246918057}. Best is trial 5 with value: 0.7817346478869689.\n",
      "[I 2024-06-11 22:10:47,923] Trial 6 finished with value: 0.7778304971695329 and parameters: {'penalty': 'l2', 'solver': 'sag', 'C': 0.35818363850095314}. Best is trial 5 with value: 0.7817346478869689.\n",
      "c:\\Users\\Blooodniy\\AppData\\Local\\Programs\\Python\\Python39\\lib\\site-packages\\sklearn\\linear_model\\_logistic.py:1193: UserWarning: Setting penalty=None will ignore the C and l1_ratio parameters\n",
      "  warnings.warn(\n",
      "c:\\Users\\Blooodniy\\AppData\\Local\\Programs\\Python\\Python39\\lib\\site-packages\\sklearn\\linear_model\\_sag.py:350: ConvergenceWarning: The max_iter was reached which means the coef_ did not converge\n",
      "  warnings.warn(\n",
      "[I 2024-06-11 22:12:17,383] Trial 7 finished with value: 0.7597800660015992 and parameters: {'penalty': None, 'solver': 'sag', 'C': 0.9598860336169918}. Best is trial 5 with value: 0.7817346478869689.\n",
      "[I 2024-06-11 22:12:22,433] Trial 8 finished with value: 0.7807474212956713 and parameters: {'penalty': 'l2', 'solver': 'newton-cg', 'C': 0.21370834736856617}. Best is trial 5 with value: 0.7817346478869689.\n",
      "[I 2024-06-11 22:13:08,209] Trial 9 finished with value: 0.7796513064601656 and parameters: {'penalty': 'l2', 'solver': 'sag', 'C': 0.23884303366065252}. Best is trial 5 with value: 0.7817346478869689.\n",
      "[I 2024-06-11 22:13:09,966] Trial 10 finished with value: 0.7927396717472497 and parameters: {'penalty': 'l2', 'solver': 'lbfgs', 'C': 0.026286353731863416}. Best is trial 10 with value: 0.7927396717472497.\n",
      "[I 2024-06-11 22:13:11,815] Trial 11 finished with value: 0.792390935152632 and parameters: {'penalty': 'l2', 'solver': 'lbfgs', 'C': 0.028965061874844093}. Best is trial 10 with value: 0.7927396717472497.\n",
      "[I 2024-06-11 22:13:13,409] Trial 12 finished with value: 0.7941861645180532 and parameters: {'penalty': 'l2', 'solver': 'lbfgs', 'C': 0.019403441910238253}. Best is trial 12 with value: 0.7941861645180532.\n",
      "[I 2024-06-11 22:13:15,203] Trial 13 finished with value: 0.7926327960126269 and parameters: {'penalty': 'l2', 'solver': 'lbfgs', 'C': 0.02993916204018982}. Best is trial 12 with value: 0.7941861645180532.\n",
      "[I 2024-06-11 22:13:20,580] Trial 14 finished with value: 0.7767114545732209 and parameters: {'penalty': 'l2', 'solver': 'lbfgs', 'C': 0.8253140886570203}. Best is trial 12 with value: 0.7941861645180532.\n",
      "[I 2024-06-11 22:13:24,977] Trial 15 finished with value: 0.779177796939668 and parameters: {'penalty': 'l2', 'solver': 'lbfgs', 'C': 0.36142008755225685}. Best is trial 12 with value: 0.7941861645180532.\n",
      "[I 2024-06-11 22:13:27,620] Trial 16 finished with value: 0.7837827324743722 and parameters: {'penalty': 'l2', 'solver': 'lbfgs', 'C': 0.12702714920468722}. Best is trial 12 with value: 0.7941861645180532.\n",
      "[I 2024-06-11 22:13:33,192] Trial 17 finished with value: 0.7766569844030498 and parameters: {'penalty': 'l2', 'solver': 'lbfgs', 'C': 0.7372785993150651}. Best is trial 12 with value: 0.7941861645180532.\n",
      "[I 2024-06-11 22:13:37,359] Trial 18 finished with value: 0.7787980201759976 and parameters: {'penalty': 'l2', 'solver': 'lbfgs', 'C': 0.33364677588484115}. Best is trial 12 with value: 0.7941861645180532.\n",
      "[I 2024-06-11 22:13:40,240] Trial 19 finished with value: 0.7855981246077732 and parameters: {'penalty': 'l2', 'solver': 'lbfgs', 'C': 0.11822343313522371}. Best is trial 12 with value: 0.7941861645180532.\n"
     ]
    }
   ],
   "source": [
    "study_lr = optuna.create_study(study_name=\"LogisticRegression\", direction=\"maximize\")\n",
    "# Ищем комбинацию гиперпараметров на 20 итерациях\n",
    "study_lr.optimize(optuna_lr, n_trials=20)"
   ]
  },
  {
   "cell_type": "markdown",
   "metadata": {},
   "source": [
    "В очередной раз проделаем то же самое: выведем оптимальные значения гиперпараметров, обучим модель с их исплользованием и посчитаем метрику на тестовой выборке."
   ]
  },
  {
   "cell_type": "code",
   "execution_count": 25,
   "metadata": {},
   "outputs": [
    {
     "name": "stdout",
     "output_type": "stream",
     "text": [
      "Best parameters: {'penalty': 'l2', 'solver': 'lbfgs', 'C': 0.019403441910238253}\n",
      "LogisticRegression Optuna test f1-score: 0.78\n"
     ]
    }
   ],
   "source": [
    "print(\"Best parameters: {}\".format(study_lr.best_params))\n",
    "\n",
    "lr_op = linear_model.LogisticRegression(\n",
    "    **study_lr.best_params,\n",
    "    random_state=random_state,\n",
    "    max_iter=1000\n",
    ")\n",
    "\n",
    "lr_op.fit(X_train, y_train)\n",
    "\n",
    "y_test_pred_lr_op = lr_op.predict(X_test)\n",
    "\n",
    "print('LogisticRegression Optuna test f1-score: {:.2f}'.format(metrics.f1_score(y_test, y_test_pred_lr_op)))"
   ]
  },
  {
   "cell_type": "markdown",
   "metadata": {},
   "source": [
    "RandomForestClassifier"
   ]
  },
  {
   "cell_type": "code",
   "execution_count": 26,
   "metadata": {},
   "outputs": [],
   "source": [
    "def optuna_rf(trial):\n",
    "\n",
    "    criterion = trial.suggest_categorical('criterion', ['gini', 'entropy'])\n",
    "    n_estimators = trial.suggest_int('n_estimators', 100, 500)\n",
    "    max_depth = trial.suggest_int('max_depth', 5, 30)\n",
    "    min_samples_leaf = trial.suggest_int('min_samples_leaf', 2, 30)\n",
    "    \n",
    "    model = ensemble.RandomForestClassifier(criterion=criterion,\n",
    "                                            n_estimators=n_estimators,\n",
    "                                            max_depth=max_depth,\n",
    "                                            min_samples_leaf=min_samples_leaf,\n",
    "                                            random_state=random_state)\n",
    "    model.fit(X_train, y_train)\n",
    "\n",
    "    score = model_selection.cross_val_score(model, X_train, y_train, cv=5, scoring=\"f1\", n_jobs=-1).mean()\n",
    "    return score"
   ]
  },
  {
   "cell_type": "code",
   "execution_count": 27,
   "metadata": {},
   "outputs": [
    {
     "name": "stderr",
     "output_type": "stream",
     "text": [
      "[I 2024-06-11 22:13:40,919] A new study created in memory with name: RandomForestClassifier\n",
      "[I 2024-06-11 22:13:48,924] Trial 0 finished with value: 0.7874080893415613 and parameters: {'criterion': 'entropy', 'n_estimators': 284, 'max_depth': 27, 'min_samples_leaf': 21}. Best is trial 0 with value: 0.7874080893415613.\n",
      "[I 2024-06-11 22:13:58,290] Trial 1 finished with value: 0.7948048311237698 and parameters: {'criterion': 'gini', 'n_estimators': 321, 'max_depth': 15, 'min_samples_leaf': 17}. Best is trial 1 with value: 0.7948048311237698.\n",
      "[I 2024-06-11 22:14:05,266] Trial 2 finished with value: 0.773998669833714 and parameters: {'criterion': 'gini', 'n_estimators': 299, 'max_depth': 16, 'min_samples_leaf': 30}. Best is trial 1 with value: 0.7948048311237698.\n",
      "[I 2024-06-11 22:14:14,923] Trial 3 finished with value: 0.7953717513744054 and parameters: {'criterion': 'gini', 'n_estimators': 325, 'max_depth': 12, 'min_samples_leaf': 15}. Best is trial 3 with value: 0.7953717513744054.\n",
      "[I 2024-06-11 22:14:24,207] Trial 4 finished with value: 0.7956960012397063 and parameters: {'criterion': 'entropy', 'n_estimators': 300, 'max_depth': 17, 'min_samples_leaf': 17}. Best is trial 4 with value: 0.7956960012397063.\n",
      "[I 2024-06-11 22:14:35,511] Trial 5 finished with value: 0.7917728709699761 and parameters: {'criterion': 'gini', 'n_estimators': 390, 'max_depth': 23, 'min_samples_leaf': 16}. Best is trial 4 with value: 0.7956960012397063.\n",
      "[I 2024-06-11 22:14:50,426] Trial 6 finished with value: 0.8118471543271631 and parameters: {'criterion': 'gini', 'n_estimators': 346, 'max_depth': 23, 'min_samples_leaf': 5}. Best is trial 6 with value: 0.8118471543271631.\n",
      "[I 2024-06-11 22:14:54,074] Trial 7 finished with value: 0.7943582799885757 and parameters: {'criterion': 'gini', 'n_estimators': 116, 'max_depth': 11, 'min_samples_leaf': 16}. Best is trial 6 with value: 0.8118471543271631.\n",
      "[I 2024-06-11 22:15:07,878] Trial 8 finished with value: 0.7928825887533689 and parameters: {'criterion': 'gini', 'n_estimators': 476, 'max_depth': 15, 'min_samples_leaf': 17}. Best is trial 6 with value: 0.8118471543271631.\n",
      "[I 2024-06-11 22:15:27,341] Trial 9 finished with value: 0.8134910306464727 and parameters: {'criterion': 'gini', 'n_estimators': 428, 'max_depth': 24, 'min_samples_leaf': 4}. Best is trial 9 with value: 0.8134910306464727.\n",
      "[I 2024-06-11 22:15:57,100] Trial 10 finished with value: 0.8154754674496292 and parameters: {'criterion': 'entropy', 'n_estimators': 496, 'max_depth': 29, 'min_samples_leaf': 2}. Best is trial 10 with value: 0.8154754674496292.\n",
      "[I 2024-06-11 22:16:25,710] Trial 11 finished with value: 0.8164376043712999 and parameters: {'criterion': 'entropy', 'n_estimators': 483, 'max_depth': 30, 'min_samples_leaf': 2}. Best is trial 11 with value: 0.8164376043712999.\n",
      "[I 2024-06-11 22:16:54,494] Trial 12 finished with value: 0.8175388352042491 and parameters: {'criterion': 'entropy', 'n_estimators': 493, 'max_depth': 30, 'min_samples_leaf': 2}. Best is trial 12 with value: 0.8175388352042491.\n",
      "[I 2024-06-11 22:17:03,432] Trial 13 finished with value: 0.803655890770244 and parameters: {'criterion': 'entropy', 'n_estimators': 223, 'max_depth': 30, 'min_samples_leaf': 9}. Best is trial 12 with value: 0.8175388352042491.\n",
      "[I 2024-06-11 22:17:15,315] Trial 14 finished with value: 0.7819641070565825 and parameters: {'criterion': 'entropy', 'n_estimators': 432, 'max_depth': 7, 'min_samples_leaf': 9}. Best is trial 12 with value: 0.8175388352042491.\n",
      "[I 2024-06-11 22:17:33,599] Trial 15 finished with value: 0.8094699473179047 and parameters: {'criterion': 'entropy', 'n_estimators': 441, 'max_depth': 26, 'min_samples_leaf': 8}. Best is trial 12 with value: 0.8175388352042491.\n",
      "[I 2024-06-11 22:17:55,973] Trial 16 finished with value: 0.8176500241087933 and parameters: {'criterion': 'entropy', 'n_estimators': 384, 'max_depth': 21, 'min_samples_leaf': 2}. Best is trial 16 with value: 0.8176500241087933.\n",
      "[I 2024-06-11 22:18:09,550] Trial 17 finished with value: 0.8008348674509891 and parameters: {'criterion': 'entropy', 'n_estimators': 382, 'max_depth': 20, 'min_samples_leaf': 12}. Best is trial 16 with value: 0.8176500241087933.\n",
      "[I 2024-06-11 22:18:16,122] Trial 18 finished with value: 0.7860535960086092 and parameters: {'criterion': 'entropy', 'n_estimators': 231, 'max_depth': 20, 'min_samples_leaf': 23}. Best is trial 16 with value: 0.8176500241087933.\n",
      "[I 2024-06-11 22:18:32,865] Trial 19 finished with value: 0.8087109225630394 and parameters: {'criterion': 'entropy', 'n_estimators': 376, 'max_depth': 20, 'min_samples_leaf': 6}. Best is trial 16 with value: 0.8176500241087933.\n"
     ]
    }
   ],
   "source": [
    "study_rf = optuna.create_study(study_name=\"RandomForestClassifier\", direction=\"maximize\")\n",
    "study_rf.optimize(optuna_rf, n_trials=20)"
   ]
  },
  {
   "cell_type": "code",
   "execution_count": 28,
   "metadata": {},
   "outputs": [
    {
     "name": "stdout",
     "output_type": "stream",
     "text": [
      "Best parameters: {'criterion': 'entropy', 'n_estimators': 384, 'max_depth': 21, 'min_samples_leaf': 2}\n",
      "RandomForestClassifier Optuna test f1-score: 0.80\n"
     ]
    }
   ],
   "source": [
    "print(\"Best parameters: {}\".format(study_rf.best_params))\n",
    "\n",
    "rf_op = ensemble.RandomForestClassifier(\n",
    "    **study_rf.best_params,\n",
    "    random_state=random_state)\n",
    "\n",
    "rf_op.fit(X_train, y_train)\n",
    "\n",
    "y_test_pred_rf_op = rf_op.predict(X_test)\n",
    "\n",
    "print('RandomForestClassifier Optuna test f1-score: {:.2f}'.format(metrics.f1_score(y_test, y_test_pred_rf_op)))"
   ]
  },
  {
   "cell_type": "markdown",
   "metadata": {},
   "source": [
    "Метрика на логистической регрессии слегка снизилась по сравнению с Hyperopt, но время немного уменьшилось. а для случайного леса наоборот чуть-чуть возросло.\n",
    "\n",
    "---"
   ]
  },
  {
   "cell_type": "markdown",
   "metadata": {},
   "source": [
    "В целом Optuna представляется наболее удобной, т.к. и задание параметров сделано логичнее и вывод представлен не индексами, а значениями, в отличие от Hyperopt. Но, судя по всему, достаточно большое влияние на итоговый результат оказывает задание изначального пространства параметров."
   ]
  }
 ],
 "metadata": {
  "kernelspec": {
   "display_name": "Python 3",
   "language": "python",
   "name": "python3"
  },
  "language_info": {
   "codemirror_mode": {
    "name": "ipython",
    "version": 3
   },
   "file_extension": ".py",
   "mimetype": "text/x-python",
   "name": "python",
   "nbconvert_exporter": "python",
   "pygments_lexer": "ipython3",
   "version": "3.9.13"
  }
 },
 "nbformat": 4,
 "nbformat_minor": 2
}

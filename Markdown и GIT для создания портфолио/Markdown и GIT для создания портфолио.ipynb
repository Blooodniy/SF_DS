{
 "cells": [
  {
   "cell_type": "markdown",
   "metadata": {},
   "source": [
    "# <center> BONUS. Markdown и GIT для создания портфолио\n",
    "---"
   ]
  },
  {
   "cell_type": "markdown",
   "metadata": {},
   "source": [
    "## <center> 3. Синтаксис Markdown\n",
    "---"
   ]
  },
  {
   "cell_type": "markdown",
   "metadata": {},
   "source": [
    "ШРИФТ\n",
    "\n",
    "---"
   ]
  },
  {
   "cell_type": "markdown",
   "metadata": {},
   "source": [
    "_italic_, *italic*"
   ]
  },
  {
   "cell_type": "markdown",
   "metadata": {},
   "source": [
    "_italic_, *italic*"
   ]
  },
  {
   "cell_type": "markdown",
   "metadata": {},
   "source": [
    "__strong__, **strong**"
   ]
  },
  {
   "cell_type": "markdown",
   "metadata": {},
   "source": [
    "__strong__, **strong**"
   ]
  },
  {
   "cell_type": "markdown",
   "metadata": {},
   "source": [
    "***жирный и наклонный***"
   ]
  },
  {
   "cell_type": "markdown",
   "metadata": {},
   "source": [
    "***жирный и наклонный***"
   ]
  },
  {
   "cell_type": "markdown",
   "metadata": {},
   "source": [
    "ЗАГОЛОВКИ\n",
    "\n",
    "---"
   ]
  },
  {
   "cell_type": "code",
   "execution_count": null,
   "metadata": {},
   "outputs": [],
   "source": [
    "# Заголовок h1\n",
    "\n",
    "## Заголовок h2\n",
    "\n",
    "### Заголовок h3\n",
    "\n",
    "#### Заголовок h4\n",
    "\n",
    "##### Заголовок h5\n",
    "\n",
    "###### Заголовок h6"
   ]
  },
  {
   "cell_type": "markdown",
   "metadata": {},
   "source": [
    "# Заголовок h1\n",
    "\n",
    "## Заголовок h2\n",
    "\n",
    "### Заголовок h3\n",
    "\n",
    "#### Заголовок h4\n",
    "\n",
    "##### Заголовок h5\n",
    "\n",
    "###### Заголовок h6"
   ]
  },
  {
   "cell_type": "markdown",
   "metadata": {},
   "source": [
    "# <center> Заголовок h1 </center>"
   ]
  },
  {
   "cell_type": "markdown",
   "metadata": {},
   "source": [
    "# <center> Заголовок h1 </center>"
   ]
  },
  {
   "cell_type": "markdown",
   "metadata": {},
   "source": [
    "## Заголовок h2\n",
    "\n",
    "---\n",
    "\n",
    "## Заголовок h2"
   ]
  },
  {
   "cell_type": "markdown",
   "metadata": {},
   "source": [
    "## Заголовок h2\n",
    "\n",
    "---\n",
    "\n",
    "## Заголовок h2"
   ]
  },
  {
   "cell_type": "markdown",
   "metadata": {},
   "source": [
    "СПИСКИ\n",
    "\n",
    "---"
   ]
  },
  {
   "cell_type": "markdown",
   "metadata": {},
   "source": [
    "+ элемент 1\n",
    "\n",
    "- элемент 2\n",
    "\n",
    "* элемент ..."
   ]
  },
  {
   "cell_type": "markdown",
   "metadata": {},
   "source": [
    "+ элемент 1\n",
    "\n",
    "- элемент 2\n",
    "\n",
    "* элемент ..."
   ]
  },
  {
   "cell_type": "markdown",
   "metadata": {},
   "source": [
    "* элемент\n",
    "\n",
    "  * вложенный элемент 2.1\n",
    "\n",
    "  * вложенный элемент 2.2"
   ]
  },
  {
   "cell_type": "markdown",
   "metadata": {},
   "source": [
    "* элемент\n",
    "\n",
    "  * вложенный элемент 2.1\n",
    "\n",
    "  * вложенный элемент 2.2"
   ]
  },
  {
   "cell_type": "markdown",
   "metadata": {},
   "source": [
    "1. элемент 1\n",
    "\n",
    "2. элемент 2\n",
    "\n",
    "   2.1. элемент 3\n",
    "\n",
    "   2.2. элемент 3\n",
    "\n",
    "3. элемент 4"
   ]
  },
  {
   "cell_type": "markdown",
   "metadata": {},
   "source": [
    "1. элемент 1\n",
    "\n",
    "2. элемент 2\n",
    "\n",
    "   2.1. элемент 3\n",
    "\n",
    "   2.2. элемент 3\n",
    "\n",
    "3. элемент 4"
   ]
  },
  {
   "cell_type": "markdown",
   "metadata": {},
   "source": [
    "ССЫЛКИ И ИЗОБРАЖЕНИЯ\n",
    "\n",
    "---"
   ]
  },
  {
   "cell_type": "markdown",
   "metadata": {},
   "source": [
    "без подсказки — [текст ссылки](http://example.com/link);\n",
    "\n",
    "c подсказкой — [текст ссылки](http://example.com/link \"Подсказка\")."
   ]
  },
  {
   "cell_type": "markdown",
   "metadata": {},
   "source": [
    "без подсказки — [текст ссылки](http://example.com/link);\n",
    "\n",
    "c подсказкой — [текст ссылки](http://example.com/link \"Подсказка\")."
   ]
  },
  {
   "cell_type": "markdown",
   "metadata": {},
   "source": [
    "\n",
    "![](https://i.imgur.com/3uj9teq.png)"
   ]
  },
  {
   "cell_type": "markdown",
   "metadata": {},
   "source": [
    "![](https://i.imgur.com/3uj9teq.png)"
   ]
  },
  {
   "cell_type": "markdown",
   "metadata": {},
   "source": [
    "<img src=https://i.imgur.com/3uj9teq.png width=500px height=30%>"
   ]
  },
  {
   "cell_type": "markdown",
   "metadata": {},
   "source": [
    "<img src=https://i.imgur.com/3uj9teq.png width=500px height=30%>"
   ]
  },
  {
   "cell_type": "markdown",
   "metadata": {},
   "source": [
    "ПРОГРАММНЫЙ КОД И ЦИТИРОВАНИЕ\n",
    "\n",
    "---"
   ]
  },
  {
   "cell_type": "markdown",
   "metadata": {},
   "source": [
    "`print('Hello world!')`"
   ]
  },
  {
   "cell_type": "markdown",
   "metadata": {},
   "source": [
    "`print('Hello world!')`"
   ]
  },
  {
   "cell_type": "markdown",
   "metadata": {},
   "source": [
    "```python\n",
    "\n",
    "lst = [10, 34, 21, 21, 3]\n",
    "\n",
    "summa = sum(lst)\n",
    "\n",
    "```"
   ]
  },
  {
   "cell_type": "markdown",
   "metadata": {},
   "source": [
    "```python\n",
    "\n",
    "lst = [10, 34, 21, 21, 3]\n",
    "\n",
    "summa = sum(lst)\n",
    "\n",
    "```"
   ]
  },
  {
   "cell_type": "markdown",
   "metadata": {},
   "source": [
    "> Цитируемый текст"
   ]
  },
  {
   "cell_type": "markdown",
   "metadata": {},
   "source": [
    "> Цитируемый текст"
   ]
  },
  {
   "cell_type": "markdown",
   "metadata": {},
   "source": [
    "ФОРМУЛЫ\n",
    "\n",
    "---"
   ]
  },
  {
   "cell_type": "markdown",
   "metadata": {},
   "source": [
    "Пусть задано выражение:\n",
    "\n",
    "$$a = b +c,$$\n",
    "\n",
    "где $a=0$"
   ]
  },
  {
   "cell_type": "markdown",
   "metadata": {},
   "source": [
    "Пусть задано выражение:\n",
    "\n",
    "$$a = b +c,$$\n",
    "\n",
    "где $a=0$"
   ]
  },
  {
   "cell_type": "markdown",
   "metadata": {},
   "source": [
    "$\\alpha$\n",
    "\n",
    "$\\gamma$\n",
    "\n",
    "$\\sigma$"
   ]
  },
  {
   "cell_type": "markdown",
   "metadata": {},
   "source": [
    "$\\alpha$\n",
    "\n",
    "$\\gamma$\n",
    "\n",
    "$\\sigma$"
   ]
  },
  {
   "cell_type": "markdown",
   "metadata": {},
   "source": [
    "$a^2$\n",
    "\n",
    "$b_{ij}$\n",
    "\n",
    "$w^{ij}_n$"
   ]
  },
  {
   "cell_type": "markdown",
   "metadata": {},
   "source": [
    "$a^2$\n",
    "\n",
    "$b_{ij}$\n",
    "\n",
    "$w^{ij}_n$"
   ]
  },
  {
   "cell_type": "markdown",
   "metadata": {},
   "source": [
    "$\\frac{1+x}{n}$"
   ]
  },
  {
   "cell_type": "markdown",
   "metadata": {},
   "source": [
    "$\\frac{1+x}{n}$"
   ]
  },
  {
   "cell_type": "markdown",
   "metadata": {},
   "source": [
    "ПРИМЕР ОФОРМЛЕНИЯ ФАЙЛА README.MD\n",
    "\n",
    "---"
   ]
  },
  {
   "cell_type": "markdown",
   "metadata": {},
   "source": [
    "###### ЗАДАНИЕ 3.5 (ДЛЯ САМОПРОВЕРКИ)\n",
    "\n",
    "# <center> Face Mask Detection\n",
    "\n",
    "<center> <img src=https://raw.githubusercontent.com/Vrushti24/Face-Mask-Detection/logo/Logo/facemaskdetection.ai%20%40%2051.06%25%20(CMYK_GPU%20Preview)%20%2018-02-2021%2018_33_18%20(2).png width=200px height=200px> </center>\n",
    "\n",
    "Face Mask Detection system built with OpenCV, Keras/TensorFlow using Deep Learning and Computer Vision concepts in order to detect face masks in static images as well as in real-time video streams.\n",
    "\n",
    "<center> <img src=https://raw.githubusercontent.com/chandrikadeb7/Face-Mask-Detection/master/Readme_images/Screen%20Shot%202020-05-14%20at%208.49.06%20PM.png width=300px height=200px> </center>"
   ]
  },
  {
   "cell_type": "markdown",
   "metadata": {},
   "source": [
    "## <center> 5. Git. Основные операции\n",
    "---"
   ]
  },
  {
   "cell_type": "markdown",
   "metadata": {},
   "source": [
    "git <команда> <аргументы команды>"
   ]
  },
  {
   "cell_type": "markdown",
   "metadata": {},
   "source": [
    "    git config --global user.name \"Your Name\"\n",
    "    git config --global user.email \"your_email@whatever.com\""
   ]
  },
  {
   "cell_type": "markdown",
   "metadata": {},
   "source": [
    "    git config –-list"
   ]
  },
  {
   "cell_type": "markdown",
   "metadata": {},
   "source": [
    "    git init"
   ]
  },
  {
   "cell_type": "markdown",
   "metadata": {},
   "source": [
    "    Initialized empty Git repository in A:/Курс DS-3.0/GIT-1. Markdown и Git для создания портфолио/DataCleaningProject/.git/"
   ]
  },
  {
   "cell_type": "markdown",
   "metadata": {},
   "source": [
    "git clone [ссылка на репозиторий]"
   ]
  },
  {
   "cell_type": "markdown",
   "metadata": {},
   "source": [
    "    git clone https://github.com/SkillfactoryDS/example"
   ]
  },
  {
   "cell_type": "markdown",
   "metadata": {},
   "source": [
    "    git add ."
   ]
  },
  {
   "cell_type": "markdown",
   "metadata": {},
   "source": [
    "    git reset ."
   ]
  },
  {
   "cell_type": "markdown",
   "metadata": {},
   "source": [
    "git commit"
   ]
  },
  {
   "cell_type": "markdown",
   "metadata": {},
   "source": [
    "    git commit -m \"fixed bag in function clean_data\""
   ]
  },
  {
   "cell_type": "markdown",
   "metadata": {},
   "source": [
    "    git commit -a -m \"fixed bag in function clean_data\""
   ]
  },
  {
   "cell_type": "markdown",
   "metadata": {},
   "source": [
    "git status"
   ]
  },
  {
   "cell_type": "markdown",
   "metadata": {},
   "source": [
    "    git status -s"
   ]
  },
  {
   "cell_type": "markdown",
   "metadata": {},
   "source": [
    "git log"
   ]
  },
  {
   "cell_type": "markdown",
   "metadata": {},
   "source": [
    "git show [хеш коммита]"
   ]
  },
  {
   "cell_type": "markdown",
   "metadata": {},
   "source": [
    "    git show"
   ]
  },
  {
   "cell_type": "markdown",
   "metadata": {},
   "source": [
    "git checkout [хеш коммита]"
   ]
  },
  {
   "cell_type": "markdown",
   "metadata": {},
   "source": [
    "    git checkout HEAD~2"
   ]
  },
  {
   "cell_type": "markdown",
   "metadata": {},
   "source": [
    "git revert"
   ]
  },
  {
   "cell_type": "markdown",
   "metadata": {},
   "source": [
    "    git revert 62aa --no-edit"
   ]
  },
  {
   "cell_type": "markdown",
   "metadata": {},
   "source": [
    "    git revert HEAD --no-edit #отмена изменений в текущем коммите\n",
    "    git revert HEAD~1 --no-edit #отмена изменений в предыдущем коммите"
   ]
  },
  {
   "cell_type": "markdown",
   "metadata": {},
   "source": [
    "## <center> 6. Git. Игнорирование и работа с удалённым репозиторием\n",
    "---"
   ]
  },
  {
   "cell_type": "markdown",
   "metadata": {},
   "source": [
    "РАБОТА С УДАЛЁННЫМ РЕПОЗИТОРИЕМ"
   ]
  },
  {
   "cell_type": "markdown",
   "metadata": {},
   "source": [
    "git remote add [имя удалённого репозитория] [ссылка]"
   ]
  },
  {
   "cell_type": "markdown",
   "metadata": {},
   "source": [
    "    git remote add origin https://github.com/SkillfactoryDS/DataCleaningProject.git"
   ]
  },
  {
   "cell_type": "markdown",
   "metadata": {},
   "source": [
    "git remote remove [имя удалённого репозитория]"
   ]
  },
  {
   "cell_type": "markdown",
   "metadata": {},
   "source": [
    "    git remote remove origin"
   ]
  },
  {
   "cell_type": "markdown",
   "metadata": {},
   "source": [
    "git push [имя удалённого репозитория][имя ветки]"
   ]
  },
  {
   "cell_type": "markdown",
   "metadata": {},
   "source": [
    "    git push origin master"
   ]
  },
  {
   "cell_type": "markdown",
   "metadata": {},
   "source": [
    "git fetch [имя удалённого репозитория]"
   ]
  },
  {
   "cell_type": "markdown",
   "metadata": {},
   "source": [
    "    git fetch origin"
   ]
  },
  {
   "cell_type": "markdown",
   "metadata": {},
   "source": [
    "git fetch origin\n",
    "git merge origin/master"
   ]
  },
  {
   "cell_type": "markdown",
   "metadata": {},
   "source": [
    "git pull [имя удаленного репозитория] [имя ветки]"
   ]
  },
  {
   "cell_type": "markdown",
   "metadata": {},
   "source": [
    "    git pull origin master"
   ]
  },
  {
   "cell_type": "markdown",
   "metadata": {},
   "source": [
    "## <center> 7. Git. Ветвление и конфликты\n",
    "---"
   ]
  },
  {
   "cell_type": "markdown",
   "metadata": {},
   "source": [
    "СОЗДАНИЕ ВЕТКИ И ПЕРЕКЛЮЧЕНИЕ НА ВЕТКУ"
   ]
  },
  {
   "cell_type": "markdown",
   "metadata": {},
   "source": [
    "git branch [наименование ветки]"
   ]
  },
  {
   "cell_type": "markdown",
   "metadata": {},
   "source": [
    "создание\n",
    "\n",
    "    git branch develop"
   ]
  },
  {
   "cell_type": "markdown",
   "metadata": {},
   "source": [
    "удаление\n",
    "\n",
    "    git branch -D develop"
   ]
  },
  {
   "cell_type": "markdown",
   "metadata": {},
   "source": [
    "    git branch develop\n",
    "    git checkout develop"
   ]
  },
  {
   "cell_type": "markdown",
   "metadata": {},
   "source": [
    "    git checkout -b develop"
   ]
  },
  {
   "cell_type": "markdown",
   "metadata": {},
   "source": [
    "git branch\n",
    "* master\n",
    "* develop"
   ]
  },
  {
   "cell_type": "markdown",
   "metadata": {},
   "source": [
    "git branch -r\n",
    "* origin/master"
   ]
  },
  {
   "cell_type": "markdown",
   "metadata": {},
   "source": [
    "git branch -a\n",
    "* master \n",
    "* develop\n",
    "* remotes/origin/master"
   ]
  },
  {
   "cell_type": "markdown",
   "metadata": {},
   "source": [
    "СЛИЯНИЕ ВЕТОК"
   ]
  },
  {
   "cell_type": "markdown",
   "metadata": {},
   "source": [
    "git merge [имя сливаемой ветки]"
   ]
  },
  {
   "cell_type": "markdown",
   "metadata": {},
   "source": [
    "git checkout master\n",
    "\n",
    "git merge develop"
   ]
  },
  {
   "cell_type": "markdown",
   "metadata": {},
   "source": [
    "git checkout master\n",
    "\n",
    "git merge –-no-ff develop"
   ]
  }
 ],
 "metadata": {
  "kernelspec": {
   "display_name": "Python 3",
   "language": "python",
   "name": "python3"
  },
  "language_info": {
   "codemirror_mode": {
    "name": "ipython",
    "version": 3
   },
   "file_extension": ".py",
   "mimetype": "text/x-python",
   "name": "python",
   "nbconvert_exporter": "python",
   "pygments_lexer": "ipython3",
   "version": "3.9.13"
  }
 },
 "nbformat": 4,
 "nbformat_minor": 2
}

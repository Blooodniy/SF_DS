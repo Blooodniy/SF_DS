{
 "cells": [
  {
   "cell_type": "markdown",
   "metadata": {},
   "source": [
    "# <center> MATH&ML-9. Математика ансамблевых методов\n",
    "---"
   ]
  },
  {
   "cell_type": "markdown",
   "metadata": {},
   "source": [
    "### 2. Ансамбли моделей. Бутстреппинг. Бэггинг"
   ]
  },
  {
   "cell_type": "code",
   "execution_count": 174,
   "metadata": {},
   "outputs": [
    {
     "name": "stdout",
     "output_type": "stream",
     "text": [
      "Logistic Regression f1-score: 0.739\n",
      "Decision Tree Classifier f1-score: 0.760\n"
     ]
    },
    {
     "name": "stderr",
     "output_type": "stream",
     "text": [
      "c:\\Users\\Blooodniy\\AppData\\Local\\Programs\\Python\\Python39\\lib\\site-packages\\sklearn\\linear_model\\_logistic.py:469: ConvergenceWarning: lbfgs failed to converge (status=1):\n",
      "STOP: TOTAL NO. of ITERATIONS REACHED LIMIT.\n",
      "\n",
      "Increase the number of iterations (max_iter) or scale the data as shown in:\n",
      "    https://scikit-learn.org/stable/modules/preprocessing.html\n",
      "Please also refer to the documentation for alternative solver options:\n",
      "    https://scikit-learn.org/stable/modules/linear_model.html#logistic-regression\n",
      "  n_iter_i = _check_optimize_result(\n"
     ]
    }
   ],
   "source": [
    "# Задание 2.7\n",
    "# Подготовьте данные к классификации. Условно разделите вино на хорошее и плохое. Хорошим вином будем называть то, параметр quality которого — 6 и более\n",
    "# Разделите выборку на обучающую и тестовую в соотношении 70/30, в качестве значения параметра random_state возьмите число 42\n",
    "# Для начала обучите два классификатора: логистическую регрессию (с параметрами по умолчанию) и дерево решений (random_state = 42, максимальная глубина — 10)\n",
    "import numpy as np\n",
    "import pandas as pd\n",
    "from sklearn.model_selection import train_test_split\n",
    "from sklearn.linear_model import LogisticRegression\n",
    "from sklearn.tree import DecisionTreeClassifier\n",
    "from sklearn import metrics\n",
    "\n",
    "wine_df = pd.read_csv('data/wineQualityReds.csv')\n",
    "wine_df['class'] = wine_df['quality'].apply(lambda x: 1 if x>=6 else 0)\n",
    "\n",
    "X = wine_df.drop(['quality', 'class'], axis=1)\n",
    "y = wine_df['class']\n",
    "X_train, X_test, y_train, y_test = train_test_split(X, y, test_size=0.3, random_state=42)\n",
    "\n",
    "lgr = LogisticRegression()\n",
    "lgr.fit(X_train, y_train)\n",
    "y_test_pred_lgr = lgr.predict(X_test)\n",
    "\n",
    "dtc = DecisionTreeClassifier(max_depth=10, random_state=42)\n",
    "dtc.fit(X_train, y_train)\n",
    "y_test_pred_dtc = dtc.predict(X_test)\n",
    "\n",
    "print(f'Logistic Regression f1-score: {metrics.f1_score(y_test, y_test_pred_lgr):.3f}')\n",
    "print(f'Decision Tree Classifier f1-score: {metrics.f1_score(y_test, y_test_pred_dtc):.3f}')"
   ]
  },
  {
   "cell_type": "code",
   "execution_count": 175,
   "metadata": {},
   "outputs": [
    {
     "name": "stdout",
     "output_type": "stream",
     "text": [
      "Bagging Classifier f1-score: 0.824\n"
     ]
    }
   ],
   "source": [
    "# Задание 2.8\n",
    "# Обучите модель с использованием бэггинга (класс BaggingClassifier с random_state=42)\n",
    "# Возьмите из предыдущего задания алгоритм, показавший наилучшее качество, и укажите для него новое количество моделей — 1500. Вычислите новое значение F1-score\n",
    "from sklearn.ensemble import BaggingClassifier\n",
    "\n",
    "bc = BaggingClassifier(estimator=DecisionTreeClassifier(max_depth=10, \n",
    "                                                        random_state=42),\n",
    "                       n_estimators=1500,\n",
    "                       random_state=42)\n",
    "bc.fit(X_train, y_train)\n",
    "y_test_pred_bc = bc.predict(X_test)\n",
    "print(f'Bagging Classifier f1-score: {metrics.f1_score(y_test, y_test_pred_bc):.3f}')"
   ]
  },
  {
   "cell_type": "markdown",
   "metadata": {},
   "source": [
    "---"
   ]
  },
  {
   "cell_type": "markdown",
   "metadata": {},
   "source": [
    "### 3. Случайный лес"
   ]
  },
  {
   "cell_type": "code",
   "execution_count": 176,
   "metadata": {},
   "outputs": [
    {
     "name": "stdout",
     "output_type": "stream",
     "text": [
      "1. 22.77\n",
      "2. 3.72\n",
      "3. MAE train: 0.00, MAE test: 2.84\n",
      "4. 2.24\n"
     ]
    }
   ],
   "source": [
    "# Задание 3.4\n",
    "# 1. Разбейте набор данных на обучающую и тестовую выборку в соотношении 70/30, при разбиении задайте параметр random_state = 13\n",
    "# Какое получилось среднее значение медианных цен на обучающей выборке? Ответ округлите до двух знаков после точки-разделителя\n",
    "boston_df = pd.read_csv('data/boston (1).csv')\n",
    "# Преобразуем в числовой формат, предварительно заменив десятичнй разделитель\n",
    "boston_df = boston_df.apply(lambda col: pd.to_numeric(col.str.replace(',', '.')) if col.dtype=='object' else col)\n",
    "X = boston_df.drop('target', axis=1)\n",
    "y = boston_df['target']\n",
    "X_train, X_test, y_train, y_test = train_test_split(X, y, test_size=0.3, random_state=13)\n",
    "print(f'1. {y_train.mean():.2f}')\n",
    "\n",
    "# 2. Обучите линейную регрессию с параметрами по умолчанию\n",
    "# В качестве ответа введите ошибку MAE на тестовой выборке. Ответ округлите до двух знаков после точки-разделителя\n",
    "from sklearn.linear_model import LinearRegression\n",
    "\n",
    "lnr = LinearRegression()\n",
    "lnr.fit(X_train, y_train)\n",
    "y_test_pred_lnr = lnr.predict(X_test)\n",
    "print(f'2. {metrics.mean_absolute_error(y_test, y_test_pred_lnr):.2f}')\n",
    "\n",
    "# 3. Обучите решающее дерево с параметрами по умолчанию и аргументом random_state = 13\n",
    "# Можно ли, опираясь на результаты, сделать вывод, что алгоритм переобучился?\n",
    "from sklearn.tree import DecisionTreeRegressor\n",
    "\n",
    "dtr = DecisionTreeRegressor(random_state=13)\n",
    "dtr.fit(X_train, y_train)\n",
    "y_train_pred_dtr = dtr.predict(X_train)\n",
    "y_test_pred_dtr = dtr.predict(X_test)\n",
    "print(f'3. MAE train: {metrics.mean_absolute_error(y_train, y_train_pred_dtr):.2f}, MAE test: {metrics.mean_absolute_error(y_test, y_test_pred_dtr):.2f}')\n",
    "\n",
    "# 4. Обучите четыре случайных леса с числом деревьев 3, 10, 100, 500 и параметром random_state = 13\n",
    "# В качестве ответа введите наименьшую полученную ошибку MAE на тестовой выборке. Ответ округлите до двух знаков после точки-разделителя.\n",
    "from sklearn.ensemble import RandomForestRegressor\n",
    "n_estimators = [3, 10, 100, 500]\n",
    "mae = []\n",
    "for n in n_estimators:\n",
    "    rfr = RandomForestRegressor(n_estimators=n, random_state=13)\n",
    "    rfr.fit(X_train, y_train)\n",
    "    y_test_pred_rfr = rfr.predict(X_test)\n",
    "    mae.append(metrics.mean_absolute_error(y_test, y_test_pred_rfr))\n",
    "print(f'4. {min(mae):.2f}')"
   ]
  },
  {
   "cell_type": "markdown",
   "metadata": {},
   "source": [
    "---"
   ]
  },
  {
   "cell_type": "markdown",
   "metadata": {},
   "source": [
    "### 4. Случайный лес. Практика"
   ]
  },
  {
   "cell_type": "markdown",
   "metadata": {},
   "source": [
    "* `Date` — дата, в которую зафиксировано наблюдение;\n",
    "* `Location` — местонахождение метеорологической станции;\n",
    "* `MinTemp` — минимальная температура (℃);\n",
    "* `MaxTemp` — максимальная температура (℃);\n",
    "* `Rainfall` — количество осадков (дождь) за сутки (мм);\n",
    "* `Evaporation` — количество испарений до 9 утра (мм);\n",
    "* `Sunshine` — количество часов в сутках, когда светило солнце;\n",
    "* `WindGustDir` — направление самого сильного порыва ветра за последние 24 часа;\n",
    "* `WindGustSpeed` — скорость самого сильного порыва ветра за последние 24 часа;\n",
    "* `WindDir9am` — направление ветра в 9 утра;\n",
    "* `WindDir3pm` — направление ветра в 3 часа дня;\n",
    "* `WindSpeed9am` — скорость ветра в 9 часов утра;\n",
    "* `WindSpeed3pm` — скорость ветра в 3 часа дня;\n",
    "* `Humidity9am` — влажность в 9 утра;\n",
    "* `Humidity3pm` — влажность в 3 часа дня;\n",
    "* `Pressure9am` — атмосферное давление в 9 утра;\n",
    "* `Pressure3pm` — атмосферное давление в 3 часа дня;\n",
    "* `Cloud9am` — часть неба, закрытая облаками, в 9 утра;\n",
    "* `Cloud3pm` — часть неба, закрытая облаками, в 3 часа дня;\n",
    "* `Temp9am` — температура в 9 утра;\n",
    "* `Temp3pm` — температура в 3 часа дня;\n",
    "* `RainToday` — наличие дождя в этот день;\n",
    "* `RainTomorrow` — наличие дождя на следующий день."
   ]
  },
  {
   "cell_type": "code",
   "execution_count": 177,
   "metadata": {},
   "outputs": [
    {
     "data": {
      "text/html": [
       "<div>\n",
       "<style scoped>\n",
       "    .dataframe tbody tr th:only-of-type {\n",
       "        vertical-align: middle;\n",
       "    }\n",
       "\n",
       "    .dataframe tbody tr th {\n",
       "        vertical-align: top;\n",
       "    }\n",
       "\n",
       "    .dataframe thead th {\n",
       "        text-align: right;\n",
       "    }\n",
       "</style>\n",
       "<table border=\"1\" class=\"dataframe\">\n",
       "  <thead>\n",
       "    <tr style=\"text-align: right;\">\n",
       "      <th></th>\n",
       "      <th>Date</th>\n",
       "      <th>Location</th>\n",
       "      <th>MinTemp</th>\n",
       "      <th>MaxTemp</th>\n",
       "      <th>Rainfall</th>\n",
       "      <th>Evaporation</th>\n",
       "      <th>Sunshine</th>\n",
       "      <th>WindGustDir</th>\n",
       "      <th>WindGustSpeed</th>\n",
       "      <th>WindDir9am</th>\n",
       "      <th>WindDir3pm</th>\n",
       "      <th>WindSpeed9am</th>\n",
       "      <th>WindSpeed3pm</th>\n",
       "      <th>Humidity9am</th>\n",
       "      <th>Humidity3pm</th>\n",
       "      <th>Pressure9am</th>\n",
       "      <th>Pressure3pm</th>\n",
       "      <th>Cloud9am</th>\n",
       "      <th>Cloud3pm</th>\n",
       "      <th>Temp9am</th>\n",
       "      <th>Temp3pm</th>\n",
       "      <th>RainToday</th>\n",
       "      <th>RainTomorrow</th>\n",
       "    </tr>\n",
       "  </thead>\n",
       "  <tbody>\n",
       "    <tr>\n",
       "      <th>0</th>\n",
       "      <td>2008-12-01</td>\n",
       "      <td>Albury</td>\n",
       "      <td>13.4</td>\n",
       "      <td>22.9</td>\n",
       "      <td>0.6</td>\n",
       "      <td>NaN</td>\n",
       "      <td>NaN</td>\n",
       "      <td>W</td>\n",
       "      <td>44.0</td>\n",
       "      <td>W</td>\n",
       "      <td>WNW</td>\n",
       "      <td>20.0</td>\n",
       "      <td>24.0</td>\n",
       "      <td>71.0</td>\n",
       "      <td>22.0</td>\n",
       "      <td>1007.7</td>\n",
       "      <td>1007.1</td>\n",
       "      <td>8.0</td>\n",
       "      <td>NaN</td>\n",
       "      <td>16.9</td>\n",
       "      <td>21.8</td>\n",
       "      <td>No</td>\n",
       "      <td>No</td>\n",
       "    </tr>\n",
       "    <tr>\n",
       "      <th>1</th>\n",
       "      <td>2008-12-02</td>\n",
       "      <td>Albury</td>\n",
       "      <td>7.4</td>\n",
       "      <td>25.1</td>\n",
       "      <td>0.0</td>\n",
       "      <td>NaN</td>\n",
       "      <td>NaN</td>\n",
       "      <td>WNW</td>\n",
       "      <td>44.0</td>\n",
       "      <td>NNW</td>\n",
       "      <td>WSW</td>\n",
       "      <td>4.0</td>\n",
       "      <td>22.0</td>\n",
       "      <td>44.0</td>\n",
       "      <td>25.0</td>\n",
       "      <td>1010.6</td>\n",
       "      <td>1007.8</td>\n",
       "      <td>NaN</td>\n",
       "      <td>NaN</td>\n",
       "      <td>17.2</td>\n",
       "      <td>24.3</td>\n",
       "      <td>No</td>\n",
       "      <td>No</td>\n",
       "    </tr>\n",
       "    <tr>\n",
       "      <th>2</th>\n",
       "      <td>2008-12-03</td>\n",
       "      <td>Albury</td>\n",
       "      <td>12.9</td>\n",
       "      <td>25.7</td>\n",
       "      <td>0.0</td>\n",
       "      <td>NaN</td>\n",
       "      <td>NaN</td>\n",
       "      <td>WSW</td>\n",
       "      <td>46.0</td>\n",
       "      <td>W</td>\n",
       "      <td>WSW</td>\n",
       "      <td>19.0</td>\n",
       "      <td>26.0</td>\n",
       "      <td>38.0</td>\n",
       "      <td>30.0</td>\n",
       "      <td>1007.6</td>\n",
       "      <td>1008.7</td>\n",
       "      <td>NaN</td>\n",
       "      <td>2.0</td>\n",
       "      <td>21.0</td>\n",
       "      <td>23.2</td>\n",
       "      <td>No</td>\n",
       "      <td>No</td>\n",
       "    </tr>\n",
       "    <tr>\n",
       "      <th>3</th>\n",
       "      <td>2008-12-04</td>\n",
       "      <td>Albury</td>\n",
       "      <td>9.2</td>\n",
       "      <td>28.0</td>\n",
       "      <td>0.0</td>\n",
       "      <td>NaN</td>\n",
       "      <td>NaN</td>\n",
       "      <td>NE</td>\n",
       "      <td>24.0</td>\n",
       "      <td>SE</td>\n",
       "      <td>E</td>\n",
       "      <td>11.0</td>\n",
       "      <td>9.0</td>\n",
       "      <td>45.0</td>\n",
       "      <td>16.0</td>\n",
       "      <td>1017.6</td>\n",
       "      <td>1012.8</td>\n",
       "      <td>NaN</td>\n",
       "      <td>NaN</td>\n",
       "      <td>18.1</td>\n",
       "      <td>26.5</td>\n",
       "      <td>No</td>\n",
       "      <td>No</td>\n",
       "    </tr>\n",
       "    <tr>\n",
       "      <th>4</th>\n",
       "      <td>2008-12-05</td>\n",
       "      <td>Albury</td>\n",
       "      <td>17.5</td>\n",
       "      <td>32.3</td>\n",
       "      <td>1.0</td>\n",
       "      <td>NaN</td>\n",
       "      <td>NaN</td>\n",
       "      <td>W</td>\n",
       "      <td>41.0</td>\n",
       "      <td>ENE</td>\n",
       "      <td>NW</td>\n",
       "      <td>7.0</td>\n",
       "      <td>20.0</td>\n",
       "      <td>82.0</td>\n",
       "      <td>33.0</td>\n",
       "      <td>1010.8</td>\n",
       "      <td>1006.0</td>\n",
       "      <td>7.0</td>\n",
       "      <td>8.0</td>\n",
       "      <td>17.8</td>\n",
       "      <td>29.7</td>\n",
       "      <td>No</td>\n",
       "      <td>No</td>\n",
       "    </tr>\n",
       "  </tbody>\n",
       "</table>\n",
       "</div>"
      ],
      "text/plain": [
       "         Date Location  MinTemp  ...  Temp3pm  RainToday  RainTomorrow\n",
       "0  2008-12-01   Albury     13.4  ...     21.8         No            No\n",
       "1  2008-12-02   Albury      7.4  ...     24.3         No            No\n",
       "2  2008-12-03   Albury     12.9  ...     23.2         No            No\n",
       "3  2008-12-04   Albury      9.2  ...     26.5         No            No\n",
       "4  2008-12-05   Albury     17.5  ...     29.7         No            No\n",
       "\n",
       "[5 rows x 23 columns]"
      ]
     },
     "execution_count": 177,
     "metadata": {},
     "output_type": "execute_result"
    }
   ],
   "source": [
    "weather_df = pd.read_csv('data/weatherAUS.csv')\n",
    "weather_df.head()"
   ]
  },
  {
   "cell_type": "code",
   "execution_count": 178,
   "metadata": {},
   "outputs": [
    {
     "name": "stdout",
     "output_type": "stream",
     "text": [
      "<class 'pandas.core.frame.DataFrame'>\n",
      "RangeIndex: 145460 entries, 0 to 145459\n",
      "Data columns (total 23 columns):\n",
      " #   Column         Non-Null Count   Dtype  \n",
      "---  ------         --------------   -----  \n",
      " 0   Date           145460 non-null  object \n",
      " 1   Location       145460 non-null  object \n",
      " 2   MinTemp        143975 non-null  float64\n",
      " 3   MaxTemp        144199 non-null  float64\n",
      " 4   Rainfall       142199 non-null  float64\n",
      " 5   Evaporation    82670 non-null   float64\n",
      " 6   Sunshine       75625 non-null   float64\n",
      " 7   WindGustDir    135134 non-null  object \n",
      " 8   WindGustSpeed  135197 non-null  float64\n",
      " 9   WindDir9am     134894 non-null  object \n",
      " 10  WindDir3pm     141232 non-null  object \n",
      " 11  WindSpeed9am   143693 non-null  float64\n",
      " 12  WindSpeed3pm   142398 non-null  float64\n",
      " 13  Humidity9am    142806 non-null  float64\n",
      " 14  Humidity3pm    140953 non-null  float64\n",
      " 15  Pressure9am    130395 non-null  float64\n",
      " 16  Pressure3pm    130432 non-null  float64\n",
      " 17  Cloud9am       89572 non-null   float64\n",
      " 18  Cloud3pm       86102 non-null   float64\n",
      " 19  Temp9am        143693 non-null  float64\n",
      " 20  Temp3pm        141851 non-null  float64\n",
      " 21  RainToday      142199 non-null  object \n",
      " 22  RainTomorrow   142193 non-null  object \n",
      "dtypes: float64(16), object(7)\n",
      "memory usage: 25.5+ MB\n"
     ]
    }
   ],
   "source": [
    "weather_df.info()"
   ]
  },
  {
   "cell_type": "code",
   "execution_count": 179,
   "metadata": {},
   "outputs": [
    {
     "data": {
      "text/plain": [
       "343248"
      ]
     },
     "execution_count": 179,
     "metadata": {},
     "output_type": "execute_result"
    }
   ],
   "source": [
    "# Задание 4.1\n",
    "# Сколько суммарно пропусков в данных?\n",
    "weather_df.isnull().sum().sum()"
   ]
  },
  {
   "cell_type": "code",
   "execution_count": 180,
   "metadata": {},
   "outputs": [
    {
     "name": "stdout",
     "output_type": "stream",
     "text": [
      "3\n"
     ]
    }
   ],
   "source": [
    "# Задание 4.2\n",
    "# В некоторых признаках пропусков более 40 % — удалите такие признаки. Сколько их было?\n",
    "drop = weather_df.dropna(axis=1, thresh=0.6*weather_df.shape[0])\n",
    "print(weather_df.shape[1] - drop.shape[1])\n",
    "weather_df = drop"
   ]
  },
  {
   "cell_type": "code",
   "execution_count": 181,
   "metadata": {},
   "outputs": [
    {
     "data": {
      "text/plain": [
       "0.22"
      ]
     },
     "execution_count": 181,
     "metadata": {},
     "output_type": "execute_result"
    }
   ],
   "source": [
    "# Задание 4.3\n",
    "# Теперь обработаем признаки RainToday и RainTomorrow таким образом, чтобы вместо yes было значение 1, а вместо no — значение 0\n",
    "# Обратите внимание на то, что в признаках RainToday и RainTomorrow присутствуют пропуски, и их трогать не нужно, они должны остаться пропусками\n",
    "# Поэтому обрабатывайте столбцы таким образом, чтобы не видоизменить пропущенные значения\n",
    "weather_df.loc[:, 'RainToday'] = weather_df['RainToday'].apply(lambda x: 1 if x=='Yes' else (0 if x=='No' else x))\n",
    "weather_df.loc[:, 'RainTomorrow'] = weather_df['RainTomorrow'].apply(lambda x: 1 if x=='Yes' else (0 if x=='No' else x))\n",
    "\n",
    "# Вычислите среднее арифметическое для преобразованного признака RainToday и запишите его в ответ, предварительно округлив до двух знаков после точки-разделителя\n",
    "round(weather_df['RainToday'].mean(), 2)"
   ]
  },
  {
   "cell_type": "code",
   "execution_count": 182,
   "metadata": {},
   "outputs": [
    {
     "data": {
      "text/plain": [
       "7"
      ]
     },
     "execution_count": 182,
     "metadata": {},
     "output_type": "execute_result"
    }
   ],
   "source": [
    "# Задание 4.4\n",
    "# Обработайте признак Date таким образом, чтобы выделить в отдельный признак Month (номер месяца)\n",
    "weather_df.loc[:, 'Month'] = pd.to_datetime(weather_df['Date']).dt.month\n",
    "\n",
    "# Изначальный признак Date удалите. Определите, какой месяц имеет самую большую часть дождливых дней относительно всех дней месяца\n",
    "weather_df = weather_df.drop('Date', axis=1)\n",
    "\n",
    "# В качестве ответа введите порядковый номер месяца\n",
    "weather_df.groupby(['Month'])['RainToday'].mean().sort_values(ascending=False).index[0]"
   ]
  },
  {
   "cell_type": "code",
   "execution_count": 183,
   "metadata": {},
   "outputs": [
    {
     "data": {
      "text/plain": [
       "124"
      ]
     },
     "execution_count": 183,
     "metadata": {},
     "output_type": "execute_result"
    }
   ],
   "source": [
    "# Задание 4.5\n",
    "# Обработайте оставшиеся категориальные признаки\n",
    "# С помощью метода get_dummies с настройками по умолчанию создайте dummy-переменные для всех категориальных признаков (их пять), которые есть в данных на этот момент\n",
    "# Кодировку признаков важно выполнить именно в следующем порядке: \n",
    "categoricals = ['Month', 'Location', 'WindGustDir', 'WindDir9am', 'WindDir3pm']\n",
    "# Это необходимо для того, чтобы ваши дальнейшие ответы сходились с нашим решением, так как алгоритм случайного леса, \n",
    "# который мы будем использовать в дальнейшем, чувствителен к порядку столбцов\n",
    "# Аргумент categoricals передаётся в функцию pd.get_dummies() с использованием ключевого слова columns, а именно columns=categoricals\n",
    "weather_df = pd.get_dummies(weather_df, columns=categoricals)\n",
    "\n",
    "# Сколько теперь признаков в данных, если считать целевую переменную?\n",
    "weather_df.shape[1]"
   ]
  },
  {
   "cell_type": "code",
   "execution_count": 184,
   "metadata": {},
   "outputs": [
    {
     "data": {
      "text/plain": [
       "0.23"
      ]
     },
     "execution_count": 184,
     "metadata": {},
     "output_type": "execute_result"
    }
   ],
   "source": [
    "# Задание 4.6\n",
    "# Осталось совсем немного. Удалите все строки, где есть пропуски\n",
    "weather_df = weather_df.dropna(axis=0, how='any')\n",
    "\n",
    "# Далее разбейте данные на обучающую и тестовую выборки в соотношении 70/30, в качестве значения параметра random_state возьмите число 31\n",
    "X = weather_df.drop('RainTomorrow', axis=1)\n",
    "y = weather_df['RainTomorrow'].astype(int)\n",
    "X_train, X_test, y_train, y_test = train_test_split(X, y, test_size=0.3, random_state=31)\n",
    "\n",
    "# Каково среднее значение целевой переменной на тестовой выборке? Ответ округлите до двух знаков после точки-разделителя\n",
    "round(y_test.mean(), 2)"
   ]
  },
  {
   "cell_type": "code",
   "execution_count": 185,
   "metadata": {},
   "outputs": [
    {
     "data": {
      "text/plain": [
       "0.03"
      ]
     },
     "execution_count": 185,
     "metadata": {},
     "output_type": "execute_result"
    }
   ],
   "source": [
    "# Задание 4.7\n",
    "# Теперь давайте вспомним про бутстреп. Он не понадобится нам для решения этой задачи, но будет полезно реализовать его «вручную»\n",
    "# Сделайте оценку стандартного отклонения для среднего значения минимальной температуры для обучающей выборки (то есть для среднего значения по признаку MinTemp)\n",
    "# Для этого сгенерируйте 1000 случайных выборок из наших данных — каждая из них должна быть такого же объёма, как и обучающая выборка\n",
    "# Для генерации выборки используйте np.random.randint(): сгенерируйте необходимое количество индексов и по ним извлеките соответствующие элементы выборки\n",
    "# Случайность фиксируйте с помощью np.random.seed(31)\n",
    "# Для каждой выборки вычислите среднее значение, а после найдите стандартное отклонение для этих значений. Ответ округлите до двух знаков после точки-разделителя\n",
    "n = X_train.shape[0]\n",
    "np.random.seed(31)\n",
    "indices = np.random.randint(0, n, (n, 1000))\n",
    "means = []\n",
    "for i in range(1000):\n",
    "    bootstrap = X_train['MinTemp'].iloc[indices[:, i]]\n",
    "    means.append(bootstrap.mean())\n",
    "round(np.std(means), 2)"
   ]
  },
  {
   "cell_type": "code",
   "execution_count": 186,
   "metadata": {},
   "outputs": [
    {
     "name": "stderr",
     "output_type": "stream",
     "text": [
      "c:\\Users\\Blooodniy\\AppData\\Local\\Programs\\Python\\Python39\\lib\\site-packages\\sklearn\\linear_model\\_logistic.py:469: ConvergenceWarning: lbfgs failed to converge (status=1):\n",
      "STOP: TOTAL NO. of ITERATIONS REACHED LIMIT.\n",
      "\n",
      "Increase the number of iterations (max_iter) or scale the data as shown in:\n",
      "    https://scikit-learn.org/stable/modules/preprocessing.html\n",
      "Please also refer to the documentation for alternative solver options:\n",
      "    https://scikit-learn.org/stable/modules/linear_model.html#logistic-regression\n",
      "  n_iter_i = _check_optimize_result(\n"
     ]
    },
    {
     "data": {
      "text/plain": [
       "0.73"
      ]
     },
     "execution_count": 186,
     "metadata": {},
     "output_type": "execute_result"
    }
   ],
   "source": [
    "# Задание 4.8\n",
    "# Теперь можно перейти к обучению прогностических моделей. Начнём с того, что построим простейшую логистическую регрессию (без настройки гиперпараметров)\n",
    "# Это будет та модель, с качеством которой мы будем сравнивать результаты, полученные далее\n",
    "# В качестве ответа введите значение метрики roc_auc на тестовой выборке. Ответ округлите до двух знаков после точки-разделителя\n",
    "lgr = LogisticRegression()\n",
    "lgr.fit(X_train, y_train)\n",
    "y_test_pred_lgr = lgr.predict(X_test)\n",
    "round(metrics.roc_auc_score(y_test, y_test_pred_lgr), 2)"
   ]
  },
  {
   "cell_type": "code",
   "execution_count": 187,
   "metadata": {},
   "outputs": [
    {
     "name": "stdout",
     "output_type": "stream",
     "text": [
      "0.7\n"
     ]
    },
    {
     "data": {
      "text/plain": [
       "{'max_depth': 5, 'max_leaf_nodes': 9, 'min_samples_split': 2}"
      ]
     },
     "execution_count": 187,
     "metadata": {},
     "output_type": "execute_result"
    }
   ],
   "source": [
    "# Задание 4.9\n",
    "# Теперь попробуйте обучить на наших данных другой алгоритм — дерево решений. С помощью GridSearchCV сделайте перебор гиперпараметров по следующей сетке:\n",
    "params = {'max_leaf_nodes': list(range(2, 10)), 'min_samples_split': [2, 3, 4], 'max_depth': [5,7,9,11]}\n",
    "# Для параметра кросс-валидации cv задайте значение 3. Для решающего дерева определите параметр random_state=42. Остальные параметры оставьте по умолчанию\n",
    "from sklearn.model_selection import GridSearchCV\n",
    "\n",
    "gscv = GridSearchCV(param_grid=params,\n",
    "                    estimator=DecisionTreeClassifier(random_state=42), \n",
    "                    cv=3)\n",
    "gscv.fit(X_train, y_train)\n",
    "\n",
    "# 1. Вычислите значение roc_auc для решающего дерева с гиперпараметрами, определёнными в качестве оптимальных. Ответ округлите до двух знаков после точки-разделителя\n",
    "y_test_pred_gscv = gscv.best_estimator_.predict(X_test)\n",
    "print(round(metrics.roc_auc_score(y_test, y_test_pred_gscv), 2))\n",
    "\n",
    "# 2. Какие значения гиперпараметров были выбраны как оптимальные?\n",
    "gscv.best_params_"
   ]
  },
  {
   "cell_type": "code",
   "execution_count": 188,
   "metadata": {},
   "outputs": [
    {
     "data": {
      "text/plain": [
       "0.73"
      ]
     },
     "execution_count": 188,
     "metadata": {},
     "output_type": "execute_result"
    }
   ],
   "source": [
    "# Задание 4.10\n",
    "# К сожалению, деревья решений не помогли нам в улучшении качества модели, так что попробуем ещё уменьшить ошибку с помощью ансамблей\n",
    "# Теперь постройте случайный лес, включающий 100 деревьев. Задайте параметр random_state=31. Остальные параметры оставьте по умолчанию\n",
    "from sklearn.ensemble import RandomForestClassifier\n",
    "\n",
    "rfc = RandomForestClassifier(n_estimators=100, random_state=31)\n",
    "rfc.fit(X_train, y_train)\n",
    "\n",
    "# Какой теперь будет метрика roc_auc на тестовой выборке? Ответ округлите до двух знаков после точки-разделителя\n",
    "y_test_perd_rfc = rfc.predict(X_test)\n",
    "round(metrics.roc_auc_score(y_test, y_test_perd_rfc), 2)"
   ]
  },
  {
   "cell_type": "code",
   "execution_count": 189,
   "metadata": {},
   "outputs": [
    {
     "data": {
      "text/plain": [
       "0.7005484843285417"
      ]
     },
     "execution_count": 189,
     "metadata": {},
     "output_type": "execute_result"
    }
   ],
   "source": [
    "# Задание 4.11\n",
    "# Основные параметры, которые отвечают за качество обучения в случайном лесе, следующие:'max_features', 'min_samples_leaf', 'max_depth'\n",
    "# Возьмите случайный лес из 100 деревьев и найдите оптимальную комбинацию этих трёх параметров. Сетка для перебора следующая:\n",
    "grid = {'max_features': [ 4, 5, 6, 7], 'min_samples_leaf': [3, 5, 7, 9, 11], 'max_depth': [5, 10, 15]}\n",
    "\n",
    "# Перебор осуществите с помощью GridSearchCV. Для параметра кросс-валидации cv задайте значение 3. Случайности фиксируйте параметром random_state = 31\n",
    "# Остальные значения оставьте по умолчанию\n",
    "gs_rfc = GridSearchCV(estimator=RandomForestClassifier(random_state=31),\n",
    "                      param_grid=grid,\n",
    "                      cv=3) \n",
    "gs_rfc.fit(X_train, y_train)\n",
    "\n",
    "# Какое значение roc_auc получилось для оптимальных гиперпараметров?\n",
    "gs_rfc_best = RandomForestClassifier(**gs_rfc.best_params_, n_estimators=100, random_state=31)\n",
    "gs_rfc_best.fit(X_train, y_train)\n",
    "y_test_pred_gs_rfc = gs_rfc_best.predict(X_test)\n",
    "metrics.roc_auc_score(y_test, y_test_pred_gs_rfc)"
   ]
  },
  {
   "cell_type": "code",
   "execution_count": 190,
   "metadata": {},
   "outputs": [
    {
     "data": {
      "image/png": "[encoded data removed]",
      "text/plain": [
       "<Figure size 1000x500 with 1 Axes>"
      ]
     },
     "metadata": {},
     "output_type": "display_data"
    }
   ],
   "source": [
    "# Задание 4.12\n",
    "# Как мы говорили в предыдущем юните, благодаря случайному лесу можно узнать, какие признаки оказывают большее влияние на целевую переменную по сравнению с другими\n",
    "# Оцените значимость признаков\n",
    "import matplotlib.pyplot as plt\n",
    "import seaborn as sns\n",
    "\n",
    "fi_df = pd.DataFrame({'importance': gs_rfc_best.feature_importances_,\n",
    "                      'feature': gs_rfc_best.feature_names_in_})\n",
    "fig = plt.figure(figsize=(10, 5))\n",
    "sns.barplot(fi_df.sort_values(by='importance', ascending=False).head(20),\n",
    "            y='feature',\n",
    "            x='importance')\n",
    "plt.title('feature_importances')\n",
    "plt.show()"
   ]
  },
  {
   "cell_type": "markdown",
   "metadata": {},
   "source": [
    "---"
   ]
  }
 ],
 "metadata": {
  "kernelspec": {
   "display_name": "Python 3",
   "language": "python",
   "name": "python3"
  },
  "language_info": {
   "codemirror_mode": {
    "name": "ipython",
    "version": 3
   },
   "file_extension": ".py",
   "mimetype": "text/x-python",
   "name": "python",
   "nbconvert_exporter": "python",
   "pygments_lexer": "ipython3",
   "version": "3.9.13"
  }
 },
 "nbformat": 4,
 "nbformat_minor": 2
}

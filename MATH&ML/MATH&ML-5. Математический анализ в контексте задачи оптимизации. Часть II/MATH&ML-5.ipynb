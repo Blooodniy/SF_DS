{
 "cells": [
  {
   "cell_type": "markdown",
   "metadata": {},
   "source": [
    "# <center> MATH&ML-5. Математический анализ в контексте задачи оптимизации. Часть II\n",
    "---"
   ]
  },
  {
   "cell_type": "markdown",
   "metadata": {},
   "source": [
    "### 2. Частные производные"
   ]
  },
  {
   "cell_type": "code",
   "execution_count": 1,
   "metadata": {},
   "outputs": [
    {
     "name": "stdout",
     "output_type": "stream",
     "text": [
      "8*a**7 + 5*b - cos(c)\n"
     ]
    }
   ],
   "source": [
    "from sympy import symbols, cos, diff\n",
    "\n",
    "a, b, c = symbols('a b c', real=True)\n",
    "f = 5*a*b - a*cos(c) + a**8 + c**2*b\n",
    "\n",
    "print(diff(f, a))"
   ]
  },
  {
   "cell_type": "markdown",
   "metadata": {},
   "source": [
    "---\n",
    "### 3. Безусловные экстремумы. Функции нескольких переменных"
   ]
  },
  {
   "cell_type": "code",
   "execution_count": 4,
   "metadata": {},
   "outputs": [
    {
     "data": {
      "text/plain": [
       "[(-2, -1), (-1, -2), (1, 2), (2, 1)]"
      ]
     },
     "execution_count": 4,
     "metadata": {},
     "output_type": "execute_result"
    }
   ],
   "source": [
    "from sympy import *\n",
    " \n",
    "x, y = symbols('x, y')\n",
    "eq1 = Eq(3*x**2+3*y**2-15,0)\n",
    "eq2 = Eq(6*x*y-12, 0)\n",
    " \n",
    "sol = solve([eq1, eq2], [x, y])\n",
    "sol"
   ]
  },
  {
   "cell_type": "code",
   "execution_count": 28,
   "metadata": {},
   "outputs": [
    {
     "name": "stdout",
     "output_type": "stream",
     "text": [
      "for dot (-2, -1) eigvalues: [ -6. -18.]\n",
      "for dot (-1, -2) eigvalues: [  6. -18.]\n",
      "for dot (1, 2) eigvalues: [18. -6.]\n",
      "for dot (2, 1) eigvalues: [18.  6.]\n"
     ]
    }
   ],
   "source": [
    "# Задание 3.3\n",
    "import numpy as np\n",
    "for dot in sol:\n",
    "    x = int(dot[0])\n",
    "    y = int(dot[1])\n",
    "    H = np.array([[6*x, 6*y], [6*y, 6*x]])\n",
    "    values, vectors = np.linalg.eig(H)\n",
    "    print(f'for dot {dot} eigvalues: {values}')"
   ]
  },
  {
   "cell_type": "code",
   "execution_count": 48,
   "metadata": {},
   "outputs": [
    {
     "data": {
      "text/latex": [
       "$\\displaystyle \\left\\{\\left( 2, \\  -3\\right)\\right\\}$"
      ],
      "text/plain": [
       "{(2, -3)}"
      ]
     },
     "execution_count": 48,
     "metadata": {},
     "output_type": "execute_result"
    }
   ],
   "source": [
    "# Задание 3.4\n",
    "from sympy import linsolve\n",
    "x, y = symbols('x, y')\n",
    "z = 4*x**2 - 6*x*y - 34*x + 5*y**2 + 42*y + 7\n",
    "linsolve([Eq(z.diff(x), 0), Eq(z.diff(y), 0)], [x, y])"
   ]
  },
  {
   "cell_type": "code",
   "execution_count": 67,
   "metadata": {},
   "outputs": [
    {
     "data": {
      "text/latex": [
       "$\\displaystyle -2884$"
      ],
      "text/plain": [
       "-2884"
      ]
     },
     "execution_count": 67,
     "metadata": {},
     "output_type": "execute_result"
    }
   ],
   "source": [
    "# Задание 3.5\n",
    "from sympy import Matrix\n",
    "x, y = symbols('x, y')\n",
    "f = x**3 - 2*x*y - y**6\n",
    "H = Matrix([[f.diff(x, 2), f.diff(x, y)], [f.diff(y, x), f.diff(y, 2)]])\n",
    "det(H.subs({x:1, y:2}))"
   ]
  },
  {
   "cell_type": "code",
   "execution_count": 114,
   "metadata": {},
   "outputs": [
    {
     "name": "stdout",
     "output_type": "stream",
     "text": [
      "for dot (0, 0) eigvalues: [-3, 3]\n",
      "for dot (1, 1) eigvalues: [9, 3]\n"
     ]
    }
   ],
   "source": [
    "# Задание 3.9\n",
    "x, y = symbols('x, y')\n",
    "z = x**3 + y**3 - 3*x*y\n",
    "roots = list(nonlinsolve([Eq(z.diff(x), 0), Eq(z.diff(y), 0)], [x, y]))[:2]\n",
    "H = Matrix([[z.diff(x, 2), z.diff(x, y)], [z.diff(y, x), z.diff(y, 2)]])\n",
    "for root in roots:\n",
    "    values = H.subs({x: root[0], y: root[1]}).eigenvals()\n",
    "    print(f'for dot {root} eigvalues: {list(values.keys())}')"
   ]
  },
  {
   "cell_type": "markdown",
   "metadata": {},
   "source": [
    "---\n",
    "### 4. Введение в оптимизацию"
   ]
  }
 ],
 "metadata": {
  "kernelspec": {
   "display_name": "Python 3",
   "language": "python",
   "name": "python3"
  },
  "language_info": {
   "codemirror_mode": {
    "name": "ipython",
    "version": 3
   },
   "file_extension": ".py",
   "mimetype": "text/x-python",
   "name": "python",
   "nbconvert_exporter": "python",
   "pygments_lexer": "ipython3",
   "version": "3.9.13"
  }
 },
 "nbformat": 4,
 "nbformat_minor": 2
}

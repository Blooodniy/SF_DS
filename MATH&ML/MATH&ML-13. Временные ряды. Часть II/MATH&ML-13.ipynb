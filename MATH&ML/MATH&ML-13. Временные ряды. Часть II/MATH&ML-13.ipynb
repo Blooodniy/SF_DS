{
 "cells": [
  {
   "cell_type": "markdown",
   "metadata": {},
   "source": [
    "# <center> MATH&ML-13. Временные ряды. Часть II\n",
    "---"
   ]
  },
  {
   "cell_type": "markdown",
   "metadata": {},
   "source": [
    "### 3. Статистические модели прогнозирования"
   ]
  },
  {
   "cell_type": "markdown",
   "metadata": {},
   "source": [
    "КАК ВЫБРАТЬ ПОДХОДЯЩУЮ МОДЕЛЬ?"
   ]
  },
  {
   "cell_type": "markdown",
   "metadata": {},
   "source": [
    "<img src=https://lms-cdn.skillfactory.ru/assets/courseware/v1/0aac71ca90665c4bfaf4a3d80d869421/asset-v1:SkillFactory+DST-3.0+28FEB2021+type@asset+block/MATHML_md13_3_7.png width=1000px height=30%>"
   ]
  }
 ],
 "metadata": {
  "language_info": {
   "name": "python"
  }
 },
 "nbformat": 4,
 "nbformat_minor": 2
}

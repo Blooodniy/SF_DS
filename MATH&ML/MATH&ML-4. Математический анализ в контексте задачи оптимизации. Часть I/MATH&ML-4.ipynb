{
 "cells": [
  {
   "cell_type": "markdown",
   "metadata": {},
   "source": [
    "# <center> MATH&ML-4. Математический анализ в контексте задачи оптимизации. Часть I\n",
    "---"
   ]
  },
  {
   "cell_type": "markdown",
   "metadata": {},
   "source": [
    "### 2. Множества. Операции над множествами"
   ]
  },
  {
   "cell_type": "markdown",
   "metadata": {},
   "source": [
    "##### Операции над множествами в Python"
   ]
  },
  {
   "cell_type": "code",
   "execution_count": 2,
   "metadata": {},
   "outputs": [],
   "source": [
    "A = {'ID453', 'ID312', 'ID41', 'ID3', 'ID500', 'ID920', 'ID36', 'ID27'}\n",
    "B = {'ID41', 'ID36', 'ID27', 'ID124', 'ID7', 'ID501', 'ID91' }"
   ]
  },
  {
   "cell_type": "markdown",
   "metadata": {},
   "source": [
    "ОБЪЕДИНЕНИЕ МНОЖЕСТВ"
   ]
  },
  {
   "cell_type": "code",
   "execution_count": 3,
   "metadata": {},
   "outputs": [
    {
     "name": "stdout",
     "output_type": "stream",
     "text": [
      "{'ID312', 'ID3', 'ID41', 'ID7', 'ID500', 'ID124', 'ID501', 'ID91', 'ID920', 'ID453', 'ID36', 'ID27'}\n"
     ]
    }
   ],
   "source": [
    "union_AB = A.union(B)\n",
    "print(union_AB)\n",
    "#{'ID500', 'ID27', 'ID41', 'ID3', 'ID501', 'ID453', 'ID312', 'ID124', 'ID920', 'ID91', 'ID7', 'ID36'}"
   ]
  },
  {
   "cell_type": "code",
   "execution_count": 4,
   "metadata": {},
   "outputs": [
    {
     "name": "stdout",
     "output_type": "stream",
     "text": [
      "{'ID312', 'ID3', 'ID41', 'ID7', 'ID500', 'ID124', 'ID501', 'ID91', 'ID920', 'ID453', 'ID36', 'ID27'}\n"
     ]
    }
   ],
   "source": [
    "union_AB = A | B\n",
    "print(union_AB)\n",
    "#{'ID500', 'ID27', 'ID41', 'ID3', 'ID501', 'ID453', 'ID312', 'ID124', 'ID920', 'ID91', 'ID7', 'ID36'}"
   ]
  },
  {
   "cell_type": "markdown",
   "metadata": {},
   "source": [
    "ПЕРЕСЕЧЕНИЕ МНОЖЕСТВ"
   ]
  },
  {
   "cell_type": "code",
   "execution_count": 5,
   "metadata": {},
   "outputs": [
    {
     "name": "stdout",
     "output_type": "stream",
     "text": [
      "{'ID41', 'ID36', 'ID27'}\n"
     ]
    }
   ],
   "source": [
    "inter_AB = A.intersection(B)\n",
    "print(inter_AB)\n",
    "#{'ID27', 'ID41', 'ID36'}"
   ]
  },
  {
   "cell_type": "code",
   "execution_count": 6,
   "metadata": {},
   "outputs": [
    {
     "name": "stdout",
     "output_type": "stream",
     "text": [
      "{'ID41', 'ID36', 'ID27'}\n"
     ]
    }
   ],
   "source": [
    "inter_AB = A & B\n",
    "print(inter_AB)\n",
    "#{'ID27', 'ID41', 'ID36'}"
   ]
  },
  {
   "cell_type": "markdown",
   "metadata": {},
   "source": [
    "РАЗНОСТЬ МНОЖЕСТВ"
   ]
  },
  {
   "cell_type": "code",
   "execution_count": 7,
   "metadata": {},
   "outputs": [
    {
     "name": "stdout",
     "output_type": "stream",
     "text": [
      "{'ID312', 'ID3', 'ID500', 'ID920', 'ID453'}\n"
     ]
    }
   ],
   "source": [
    "diff_AB = A.difference(B)\n",
    "print(diff_AB)\n",
    "#{'ID500', 'ID3', 'ID453', 'ID312', 'ID920'}"
   ]
  },
  {
   "cell_type": "code",
   "execution_count": 8,
   "metadata": {},
   "outputs": [
    {
     "name": "stdout",
     "output_type": "stream",
     "text": [
      "{'ID312', 'ID3', 'ID500', 'ID920', 'ID453'}\n"
     ]
    }
   ],
   "source": [
    "diff_AB = A - B\n",
    "print(diff_AB)\n",
    "#{'ID500', 'ID3', 'ID453', 'ID312', 'ID920'}"
   ]
  },
  {
   "cell_type": "code",
   "execution_count": 9,
   "metadata": {},
   "outputs": [
    {
     "name": "stdout",
     "output_type": "stream",
     "text": [
      "{'ID7', 'ID501', 'ID91', 'ID124'}\n"
     ]
    }
   ],
   "source": [
    "diff_BA = B - A\n",
    "print(diff_BA)\n",
    "#{'ID124', 'ID7', 'ID501', 'ID91'}"
   ]
  },
  {
   "cell_type": "markdown",
   "metadata": {},
   "source": [
    "СИММЕТРИЧЕСКАЯ РАЗНОСТЬ"
   ]
  },
  {
   "cell_type": "code",
   "execution_count": 10,
   "metadata": {},
   "outputs": [
    {
     "name": "stdout",
     "output_type": "stream",
     "text": [
      "{'ID7', 'ID500', 'ID124', 'ID501', 'ID920', 'ID453', 'ID312', 'ID3', 'ID91'}\n",
      "{'ID7', 'ID500', 'ID124', 'ID501', 'ID920', 'ID453', 'ID312', 'ID3', 'ID91'}\n"
     ]
    }
   ],
   "source": [
    "symmAB = A.symmetric_difference(B)\n",
    "print(symmAB)\n",
    "#{ID124', 'ID91', 'ID7', 'ID312', 'ID500', 'ID453', 'ID3', 'ID501', 'ID920'}\n",
    "\n",
    "\n",
    "symmAB = A ^ B\n",
    "print(symmAB)\n",
    "#{ID124', 'ID91', 'ID7', 'ID312', 'ID500', 'ID453', 'ID3', 'ID501', 'ID920'}"
   ]
  },
  {
   "cell_type": "markdown",
   "metadata": {},
   "source": [
    "##### Библиотека Sympy, символьные вычисления и множества"
   ]
  },
  {
   "cell_type": "code",
   "execution_count": 13,
   "metadata": {},
   "outputs": [
    {
     "data": {
      "text/latex": [
       "$\\displaystyle \\left\\{1, 3, 7, 9, 10\\right\\}$"
      ],
      "text/plain": [
       "{1, 3, 7, 9, 10}"
      ]
     },
     "execution_count": 13,
     "metadata": {},
     "output_type": "execute_result"
    }
   ],
   "source": [
    "from sympy import FiniteSet, Union\n",
    "l1 = [1, 3, 7, 10] \n",
    "l2 = [9, 7, 1] \n",
    "a = FiniteSet(*l1) \n",
    "b = FiniteSet(*l2) \n",
    "Union(a, b)"
   ]
  },
  {
   "cell_type": "code",
   "execution_count": 14,
   "metadata": {},
   "outputs": [
    {
     "data": {
      "text/latex": [
       "$\\displaystyle \\left\\{x\\; \\middle|\\; x \\in \\left[2, 9\\right] \\wedge x^{2} - 5 x = 0 \\right\\}$"
      ],
      "text/plain": [
       "ConditionSet(x, Eq(x**2 - 5*x, 0), Interval(2, 9))"
      ]
     },
     "execution_count": 14,
     "metadata": {},
     "output_type": "execute_result"
    }
   ],
   "source": [
    "from sympy import ConditionSet, Eq, Symbol, Interval\n",
    "x=Symbol('x')\n",
    "s=ConditionSet(x, Eq(x**2-5*x,0), Interval(2,9))\n",
    "s"
   ]
  },
  {
   "cell_type": "markdown",
   "metadata": {},
   "source": [
    "Условие для заданий 2.6-2.8\n",
    "\n",
    "Представьте, что вы являетесь куратором образовательной программы, на которой будет два вебинара: по программированию и по машинному обучению.\n",
    "\n",
    "На вебинар по программированию записались потенциальные слушатели со следующими электронными адресами:\n",
    "\n",
    "* bennet@xyz.com\n",
    "* darcy@abc.com\n",
    "* margaret@xyz.com\n",
    "* pa@hhh.com\n",
    "* marimari@xyz.com\n",
    "* mallika@yahoo.com\n",
    "* abc@xyz.com\n",
    "* 0071235@gmail.ru\n",
    "\n",
    "На вебинар по машинному обучению записались потенциальные слушатели со следующими электронными адресами:\n",
    "\n",
    "* marimari@xyz.com\n",
    "* darcy@abc.com\n",
    "* 0071235@gmail.ru\n",
    "* darcy@abc.com\n",
    "* petr44@xyz.com\n",
    "* katrin@ya.com\n",
    "\n",
    "Оформите множества в Python для обоих списков слушателей."
   ]
  },
  {
   "cell_type": "code",
   "execution_count": 15,
   "metadata": {},
   "outputs": [],
   "source": [
    "pg = {'bennet@xyz.com', 'darcy@abc.com', 'margaret@xyz.com', 'pa@hhh.com', 'marimari@xyz.com', 'mallika@yahoo.com', 'abc@xyz.com', '0071235@gmail.ru'}\n",
    "ml = {'marimari@xyz.com', 'darcy@abc.com', '0071235@gmail.ru', 'darcy@abc.com', 'petr44@xyz.com', 'katrin@ya.com'}"
   ]
  },
  {
   "cell_type": "code",
   "execution_count": 18,
   "metadata": {},
   "outputs": [
    {
     "data": {
      "text/plain": [
       "3"
      ]
     },
     "execution_count": 18,
     "metadata": {},
     "output_type": "execute_result"
    }
   ],
   "source": [
    "# Задание 2.6\n",
    "# С помощью операций множеств в Python определите, сколько слушателей записалось на оба вебинара\n",
    "len(ml & pg)"
   ]
  },
  {
   "cell_type": "code",
   "execution_count": 19,
   "metadata": {},
   "outputs": [
    {
     "data": {
      "text/plain": [
       "10"
      ]
     },
     "execution_count": 19,
     "metadata": {},
     "output_type": "execute_result"
    }
   ],
   "source": [
    "# Задание 2.7\n",
    "# Сколько человек заинтересованы в посещении хотя бы одного вебинара?\n",
    "len(ml | pg)"
   ]
  },
  {
   "cell_type": "code",
   "execution_count": 20,
   "metadata": {},
   "outputs": [
    {
     "data": {
      "text/plain": [
       "7"
      ]
     },
     "execution_count": 20,
     "metadata": {},
     "output_type": "execute_result"
    }
   ],
   "source": [
    "# Задание 2.8\n",
    "# Сколько человек заинтересованы в посещении только одного вебинара из двух?\n",
    "len(ml ^ pg)"
   ]
  },
  {
   "cell_type": "markdown",
   "metadata": {},
   "source": [
    "---\n",
    "### 4. Исследование функции"
   ]
  },
  {
   "cell_type": "markdown",
   "metadata": {},
   "source": [
    "##### Область определения функции"
   ]
  },
  {
   "cell_type": "code",
   "execution_count": 21,
   "metadata": {},
   "outputs": [
    {
     "data": {
      "text/latex": [
       "$\\displaystyle \\left(-\\infty, 0\\right) \\cup \\left(0, \\infty\\right)$"
      ],
      "text/plain": [
       "Union(Interval.open(-oo, 0), Interval.open(0, oo))"
      ]
     },
     "execution_count": 21,
     "metadata": {},
     "output_type": "execute_result"
    }
   ],
   "source": [
    "from sympy import Symbol, S #импортируем нужные функции для обозначения переменных\n",
    "from sympy.calculus.util import function_range #импортируем функцию для поиска области значения\n",
    "from sympy.calculus.util import continuous_domain #импортируем функцию для поиска области определения\n",
    "x = Symbol(\"x\") #определяем нашу переменную\n",
    "f = 1/x #определяем нашу функцию\n",
    "continuous_domain(f, x, S.Reals) #вычисляем область определения"
   ]
  },
  {
   "cell_type": "code",
   "execution_count": 22,
   "metadata": {},
   "outputs": [
    {
     "data": {
      "text/latex": [
       "$\\displaystyle \\left(0, \\infty\\right)$"
      ],
      "text/plain": [
       "Interval.open(0, oo)"
      ]
     },
     "execution_count": 22,
     "metadata": {},
     "output_type": "execute_result"
    }
   ],
   "source": [
    "from sympy import log\n",
    "x = Symbol(\"x\")\n",
    "f = log(x)/x\n",
    "continuous_domain(f, x, S.Reals)"
   ]
  },
  {
   "cell_type": "markdown",
   "metadata": {},
   "source": [
    "##### Область значений функции"
   ]
  },
  {
   "cell_type": "code",
   "execution_count": 23,
   "metadata": {},
   "outputs": [
    {
     "data": {
      "text/latex": [
       "$\\displaystyle \\left[-1, 1\\right]$"
      ],
      "text/plain": [
       "Interval(-1, 1)"
      ]
     },
     "execution_count": 23,
     "metadata": {},
     "output_type": "execute_result"
    }
   ],
   "source": [
    "from sympy import Symbol, S, sin #импортируем нужные функции для обозначения переменных\n",
    "from sympy.calculus.util import function_range #импортируем функцию для поиска области значений\n",
    "x = Symbol(\"x\")\n",
    "f = sin(x)\n",
    "function_range(f, x, S.Reals)"
   ]
  },
  {
   "cell_type": "code",
   "execution_count": 24,
   "metadata": {},
   "outputs": [
    {
     "data": {
      "text/latex": [
       "$\\displaystyle \\left[- 2 e, \\infty\\right)$"
      ],
      "text/plain": [
       "Interval(-2*E, oo)"
      ]
     },
     "execution_count": 24,
     "metadata": {},
     "output_type": "execute_result"
    }
   ],
   "source": [
    "from sympy import Symbol, S #импортируем нужные функции для обозначения переменных\n",
    "from sympy.calculus.util import function_range #импортируем функцию для поиска области значений\n",
    "from sympy import exp #добавляем функцию для вычисления экспоненциальной функции\n",
    "x = Symbol(\"x\")\n",
    "f = (x*x-3)/(exp(x))\n",
    "function_range(f, x, S.Reals)"
   ]
  },
  {
   "cell_type": "markdown",
   "metadata": {},
   "source": [
    "##### Точки пересечения с осями абсцисс и ординат"
   ]
  },
  {
   "cell_type": "code",
   "execution_count": 25,
   "metadata": {},
   "outputs": [
    {
     "data": {
      "text/latex": [
       "$\\displaystyle 4$"
      ],
      "text/plain": [
       "4"
      ]
     },
     "execution_count": 25,
     "metadata": {},
     "output_type": "execute_result"
    }
   ],
   "source": [
    "x = Symbol(\"x\")\n",
    "f = x*x+5*x+4\n",
    "f.subs(x, 0)"
   ]
  },
  {
   "cell_type": "code",
   "execution_count": 26,
   "metadata": {},
   "outputs": [
    {
     "data": {
      "text/latex": [
       "$\\displaystyle \\left\\{-4, -1\\right\\}$"
      ],
      "text/plain": [
       "{-4, -1}"
      ]
     },
     "execution_count": 26,
     "metadata": {},
     "output_type": "execute_result"
    }
   ],
   "source": [
    "from sympy import solveset, Eq\n",
    "solveset(Eq(x*x+5*x+4, 0), x)"
   ]
  },
  {
   "cell_type": "markdown",
   "metadata": {},
   "source": [
    "##### Исследование функции на чётность и нечётность"
   ]
  },
  {
   "cell_type": "code",
   "execution_count": 30,
   "metadata": {},
   "outputs": [
    {
     "data": {
      "text/latex": [
       "$\\displaystyle \\left\\{-4, 2\\right\\}$"
      ],
      "text/plain": [
       "{-4, 2}"
      ]
     },
     "execution_count": 30,
     "metadata": {},
     "output_type": "execute_result"
    }
   ],
   "source": [
    "# Задание 4.6\n",
    "x = Symbol('x')\n",
    "f = x*x + 2*x - 8\n",
    "solveset(Eq(f, 0), x)"
   ]
  },
  {
   "cell_type": "code",
   "execution_count": 31,
   "metadata": {},
   "outputs": [
    {
     "data": {
      "text/latex": [
       "$\\displaystyle \\left(-\\infty, - \\frac{3}{10}\\right] \\cup \\left(0, \\infty\\right)$"
      ],
      "text/plain": [
       "Union(Interval(-oo, -3/10), Interval.open(0, oo))"
      ]
     },
     "execution_count": 31,
     "metadata": {},
     "output_type": "execute_result"
    }
   ],
   "source": [
    "# Задание 4.7\n",
    "x = Symbol('x')\n",
    "f = 3 / (x*x - 10)\n",
    "function_range(f, x, S.Reals)"
   ]
  },
  {
   "cell_type": "markdown",
   "metadata": {},
   "source": [
    "---\n",
    "### 6. Вычисление производных"
   ]
  }
 ],
 "metadata": {
  "kernelspec": {
   "display_name": "Python 3",
   "language": "python",
   "name": "python3"
  },
  "language_info": {
   "codemirror_mode": {
    "name": "ipython",
    "version": 3
   },
   "file_extension": ".py",
   "mimetype": "text/x-python",
   "name": "python",
   "nbconvert_exporter": "python",
   "pygments_lexer": "ipython3",
   "version": "3.9.13"
  }
 },
 "nbformat": 4,
 "nbformat_minor": 2
}

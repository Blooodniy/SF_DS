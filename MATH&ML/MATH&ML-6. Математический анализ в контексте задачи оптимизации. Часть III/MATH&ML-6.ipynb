{
 "cells": [
  {
   "cell_type": "markdown",
   "metadata": {},
   "source": [
    "# <center> MATH&ML-6. Математический анализ в контексте задачи оптимизации. Часть III\n",
    "---"
   ]
  },
  {
   "cell_type": "markdown",
   "metadata": {},
   "source": [
    "### 2. Градиентный спуск: применение и модификации"
   ]
  },
  {
   "cell_type": "code",
   "execution_count": 157,
   "metadata": {},
   "outputs": [
    {
     "data": {
      "text/plain": [
       "0.044"
      ]
     },
     "execution_count": 157,
     "metadata": {},
     "output_type": "execute_result"
    }
   ],
   "source": [
    "# Задание 2.7\n",
    "# Давайте потренируемся применять стохастический градиентный спуск для решения задачи линейной регрессии\n",
    "# Мы уже рассмотрели его реализацию «с нуля», однако для решения практических задач можно использовать готовые библиотеки\n",
    "import numpy as np\n",
    "import pandas as pd\n",
    "from sklearn.model_selection import train_test_split\n",
    "from sklearn.linear_model import SGDRegressor\n",
    "from sklearn.model_selection import GridSearchCV\n",
    "from sklearn import metrics\n",
    "\n",
    "# Загрузите стандартный датасет об алмазах из библиотеки Seaborn:\n",
    "import seaborn as sns\n",
    "df = sns.load_dataset('diamonds')\n",
    "# Удалите часть признаков:\n",
    "df.drop(['depth', 'table', 'x', 'y', 'z'], axis=1, inplace=True)\n",
    "# Закодируйте категориальные признаки:\n",
    "df = pd.get_dummies(df, drop_first=True)\n",
    "# Логарифмируйте признаки:\n",
    "df['carat'] = np.log(1+df['carat'])\n",
    "df['price'] = np.log(1+df['price'])\n",
    "# Определите целевую переменную и предикторы:\n",
    "X = df.drop(columns=\"price\")\n",
    "y = df[\"price\"]\n",
    "# Разделите выборку на обучающую и тестовую (объём тестовой возьмите равным 0.33), значение random_state должно быть равно 42\n",
    "X_train, X_test, y_train, y_test = train_test_split(X, y, test_size=0.33, random_state=42)\n",
    "# Теперь реализуйте алгоритм линейной регрессии со стохастическим градиентным спуском (класс SGDRegressor)\n",
    "reg = SGDRegressor()\n",
    "# Отберите с помощью GridSearchCV оптимальные параметры по следующей сетке:\n",
    "grid = {\n",
    "    \"loss\": [\"squared_error\", \"epsilon_insensitive\"],\n",
    "    \"penalty\": [\"elasticnet\"],\n",
    "    \"alpha\": np.logspace(-3, 3, 10),\n",
    "    \"l1_ratio\": np.linspace(0, 1, 10),\n",
    "    \"learning_rate\": [\"constant\"],\n",
    "    \"eta0\": np.logspace(-4, -1, 4)\n",
    "    }\n",
    "\n",
    "grid_search = GridSearchCV(\n",
    "    estimator=reg,\n",
    "    param_grid=grid,\n",
    "    n_jobs=-1\n",
    "    )\n",
    "grid_search.fit(X_train, y_train)\n",
    "y_test_pred = grid_search.predict(X_test)\n",
    "round(metrics.mean_squared_error(y_test, y_test_pred), 3)"
   ]
  },
  {
   "cell_type": "markdown",
   "metadata": {},
   "source": [
    "---\n",
    "### 3. Метод Ньютона"
   ]
  },
  {
   "cell_type": "code",
   "execution_count": 158,
   "metadata": {},
   "outputs": [
    {
     "data": {
      "text/plain": [
       "0.6286680781673306"
      ]
     },
     "execution_count": 158,
     "metadata": {},
     "output_type": "execute_result"
    }
   ],
   "source": [
    "x = 0.6296335078534031\n",
    "f = 6*x**5 - 5*x**4 - 4*x**3 + 3*x**2\n",
    "dx = 30*x**4 - 20*x**3 - 12*x**2 + 6*x\n",
    "x - f / dx"
   ]
  },
  {
   "cell_type": "code",
   "execution_count": 159,
   "metadata": {},
   "outputs": [
    {
     "name": "stdout",
     "output_type": "stream",
     "text": [
      "0.629\n"
     ]
    }
   ],
   "source": [
    "# Задание 3.1\n",
    "def newton(x):\n",
    "    def f(x):\n",
    "        return 6*x**5 - 5*x**4 - 4*x**3 + 3*x**2\n",
    "    def dx(x):\n",
    "        return 30*x**4 - 20*x**3 - 12*x**2 + 6*x\n",
    "    while True:\n",
    "        x_new = x - f(x) / dx(x)\n",
    "        if abs(x - x_new) < 0.001:\n",
    "            print(round(x_new, 3))\n",
    "            break\n",
    "        x = x_new\n",
    "\n",
    "newton(0.7)"
   ]
  },
  {
   "cell_type": "code",
   "execution_count": 160,
   "metadata": {},
   "outputs": [],
   "source": [
    "def func1(x):\n",
    "    return 3*x**2 - 6*x -45\n",
    "def func2(x):\n",
    "    return 6*x - 6"
   ]
  },
  {
   "cell_type": "code",
   "execution_count": 161,
   "metadata": {},
   "outputs": [
    {
     "name": "stdout",
     "output_type": "stream",
     "text": [
      "21.695121951219512\n",
      "11.734125501243229\n",
      "7.1123493600499685\n",
      "5.365000391507974\n",
      "5.015260627016227\n",
      "5.000029000201801\n",
      "5.000000000105126\n",
      "5.000000000000001\n"
     ]
    }
   ],
   "source": [
    "initial_value = 42\n",
    "iter_count = 0\n",
    "x_curr = initial_value\n",
    "epsilon = 0.0001\n",
    "f = func1(x_curr)\n",
    "\n",
    "while (abs(f) > epsilon):\n",
    "    f = func1(x_curr)\n",
    "    f_prime = func2(x_curr)\n",
    "    x_curr = x_curr - (f)/(f_prime)\n",
    "    iter_count += 1\n",
    "    print(x_curr)\n",
    "\n",
    "#21.695121951219512\n",
    "#11.734125501243229\n",
    "#7.1123493600499685\n",
    "#5.365000391507974\n",
    "#5.015260627016227\n",
    "#5.000029000201801\n",
    "#5.000000000105126\n",
    "#5.0"
   ]
  },
  {
   "cell_type": "code",
   "execution_count": 162,
   "metadata": {},
   "outputs": [
    {
     "data": {
      "text/plain": [
       "5.0"
      ]
     },
     "execution_count": 162,
     "metadata": {},
     "output_type": "execute_result"
    }
   ],
   "source": [
    "def newtons_method(f, fprime, x0, tol=0.0001):\n",
    "    iter_count = 0\n",
    "    x_curr = x0\n",
    "    f_val = f(x_curr)\n",
    "    while (abs(f_val) > tol):\n",
    "        f_val = f(x_curr)\n",
    "        f_prime_val = fprime(x_curr)\n",
    "        x_curr = x_curr - (f_val)/(f_prime_val)\n",
    "        iter_count += 1\n",
    "    return x_curr\n",
    "\n",
    "newtons_method(f=func1, fprime=func2, x0=50, tol=0.0001)\n",
    "# 5"
   ]
  },
  {
   "cell_type": "code",
   "execution_count": 163,
   "metadata": {},
   "outputs": [
    {
     "data": {
      "text/plain": [
       "5.0"
      ]
     },
     "execution_count": 163,
     "metadata": {},
     "output_type": "execute_result"
    }
   ],
   "source": [
    "from scipy.optimize import newton\n",
    "newton(func=func1, fprime=func2, x0=50, tol=0.0001)\n",
    "# 5"
   ]
  },
  {
   "cell_type": "code",
   "execution_count": 164,
   "metadata": {},
   "outputs": [
    {
     "name": "stdout",
     "output_type": "stream",
     "text": [
      "9.727\n"
     ]
    }
   ],
   "source": [
    "# Задание 3.6\n",
    "def f(x):\n",
    "    return x**3 - 72*x - 220\n",
    "\n",
    "def dx(x):\n",
    "    return 3*x**2 - 72\n",
    "\n",
    "x0 = 12\n",
    "\n",
    "def newton(f, dx, x):\n",
    "    while True:\n",
    "        x_new = x - f(x) / dx(x)\n",
    "        if abs(x - x_new) < 0.001:\n",
    "            print(round(x_new, 3))\n",
    "            break\n",
    "        x = x_new\n",
    "\n",
    "newton(f, dx, x0)"
   ]
  },
  {
   "cell_type": "code",
   "execution_count": 165,
   "metadata": {},
   "outputs": [
    {
     "name": "stdout",
     "output_type": "stream",
     "text": [
      "0.52\n"
     ]
    }
   ],
   "source": [
    "# Задание 3.7\n",
    "def f(x):\n",
    "    return x**2 + 9*x - 5\n",
    "\n",
    "def dx(x):\n",
    "    return 2*x + 9\n",
    "\n",
    "x0 = 2.2\n",
    "\n",
    "def newton(f, dx, x):\n",
    "    while True:\n",
    "        x_new = x - f(x) / dx(x)\n",
    "        if abs(x - x_new) < 0.01:\n",
    "            print(round(x_new, 2))\n",
    "            break\n",
    "        x = x_new\n",
    "\n",
    "newton(f, dx, x0)"
   ]
  },
  {
   "cell_type": "code",
   "execution_count": 166,
   "metadata": {},
   "outputs": [
    {
     "name": "stdout",
     "output_type": "stream",
     "text": [
      "0.167\n"
     ]
    }
   ],
   "source": [
    "# Задание 3.9\n",
    "def dx(x):\n",
    "    return 24*x**2 - 4*x\n",
    "\n",
    "def ddx(x):\n",
    "    return 48*x -4\n",
    "\n",
    "x0 = 42\n",
    "\n",
    "def newton(f, dx, x):\n",
    "    while True:\n",
    "        x_new = x - f(x) / dx(x)\n",
    "        if abs(x - x_new) < 0.0001:\n",
    "            print(round(x_new, 3))\n",
    "            break\n",
    "        x = x_new\n",
    "\n",
    "newton(dx, ddx, x0)"
   ]
  },
  {
   "cell_type": "markdown",
   "metadata": {},
   "source": [
    "---\n",
    "### 4. Квазиньютоновские методы"
   ]
  },
  {
   "cell_type": "markdown",
   "metadata": {},
   "source": [
    "Подгрузим необходимые библиотеки:"
   ]
  },
  {
   "cell_type": "code",
   "execution_count": 167,
   "metadata": {},
   "outputs": [],
   "source": [
    "import numpy as np\n",
    "from scipy.optimize import minimize"
   ]
  },
  {
   "cell_type": "markdown",
   "metadata": {},
   "source": [
    "Определим функцию, которую будем оптимизировать. Вместо отдельных $x$ и $y$ можно взять координаты единого вектора:"
   ]
  },
  {
   "cell_type": "code",
   "execution_count": 168,
   "metadata": {},
   "outputs": [],
   "source": [
    "def func(x):\n",
    "    return x[0]**2.0 + x[1]**2.0"
   ]
  },
  {
   "cell_type": "markdown",
   "metadata": {},
   "source": [
    "Теперь определим градиент для функции:"
   ]
  },
  {
   "cell_type": "code",
   "execution_count": 169,
   "metadata": {},
   "outputs": [],
   "source": [
    "def grad_func(x):\n",
    "    return np.array([x[0] * 2, x[1] * 2])"
   ]
  },
  {
   "cell_type": "markdown",
   "metadata": {},
   "source": [
    "Зададим начальную точку:"
   ]
  },
  {
   "cell_type": "code",
   "execution_count": 170,
   "metadata": {},
   "outputs": [],
   "source": [
    "x_0 = [1.0, 1.0]"
   ]
  },
  {
   "cell_type": "markdown",
   "metadata": {},
   "source": [
    "Определим алгоритм:"
   ]
  },
  {
   "cell_type": "code",
   "execution_count": 171,
   "metadata": {},
   "outputs": [],
   "source": [
    "result = minimize(func, x_0, method='BFGS', jac=grad_func)"
   ]
  },
  {
   "cell_type": "markdown",
   "metadata": {},
   "source": [
    "Выведем результаты:"
   ]
  },
  {
   "cell_type": "code",
   "execution_count": 172,
   "metadata": {},
   "outputs": [
    {
     "name": "stdout",
     "output_type": "stream",
     "text": [
      "Статус оптимизации Optimization terminated successfully.\n",
      "Количество оценок: 3\n",
      "Решение: f([0. 0.]) = 0.00000\n"
     ]
    }
   ],
   "source": [
    "print('Статус оптимизации %s' % result['message'])\n",
    "print('Количество оценок: %d' % result['nfev'])\n",
    "solution = result['x']\n",
    "evaluation = func(solution)\n",
    "print('Решение: f(%s) = %.5f' % (solution, evaluation))\n",
    " \n",
    "#Статус оптимизации Optimization terminated successfully.\n",
    "#Количество оценок: 3\n",
    "#Решение: f([0. 0.]) = 0.00000"
   ]
  },
  {
   "cell_type": "markdown",
   "metadata": {},
   "source": [
    "Итак, мы получили, что минимум функции достигается в точке $(0,0)$. Значение функции в этой точке также равно нулю.\n",
    "\n",
    "Можно повторить то же самое с вариацией  *L-BFGS-B*:"
   ]
  },
  {
   "cell_type": "code",
   "execution_count": 173,
   "metadata": {},
   "outputs": [
    {
     "name": "stdout",
     "output_type": "stream",
     "text": [
      "Статус оптимизации CONVERGENCE: NORM_OF_PROJECTED_GRADIENT_<=_PGTOL\n",
      "Количество оценок: 3\n",
      "Решение: f([0. 0.]) = 0.00000\n"
     ]
    }
   ],
   "source": [
    "# определяем нашу функцию\n",
    "def func(x):\n",
    "    return x[0]**2.0 + x[1]**2.0\n",
    " \n",
    "#  определяем градиент функции\n",
    "def grad_func(x):\n",
    "    return np.array([x[0] * 2, x[1] * 2])\n",
    " \n",
    "# определяем начальную точку\n",
    "x_0 = [1, 1]\n",
    "# реализуем алгоритм L-BFGS-B\n",
    "result = minimize(func, x_0, method='L-BFGS-B', jac=grad_func)\n",
    "# получаем результат\n",
    "print('Статус оптимизации %s' % result['message'])\n",
    "print('Количество оценок: %d' % result['nfev'])\n",
    "solution = result['x']\n",
    "evaluation = func(solution)\n",
    "print('Решение: f(%s) = %.5f' % (solution, evaluation))"
   ]
  },
  {
   "cell_type": "markdown",
   "metadata": {},
   "source": [
    "Результат будет тем же самым."
   ]
  },
  {
   "cell_type": "code",
   "execution_count": 174,
   "metadata": {},
   "outputs": [
    {
     "data": {
      "text/plain": [
       "  message: CONVERGENCE: NORM_OF_PROJECTED_GRADIENT_<=_PGTOL\n",
       "  success: True\n",
       "   status: 0\n",
       "      fun: -0.9999999999999218\n",
       "        x: [-4.000e+00  1.000e+00]\n",
       "      nit: 4\n",
       "      jac: [ 2.900e-07  2.724e-07]\n",
       "     nfev: 9\n",
       "     njev: 9\n",
       " hess_inv: <2x2 LbfgsInvHessProduct with dtype=float64>"
      ]
     },
     "execution_count": 174,
     "metadata": {},
     "output_type": "execute_result"
    }
   ],
   "source": [
    "# Задание 4.1\n",
    "def func(x):\n",
    "    return x[0]**2 - x[0]*x[1] + x[1]**2 + 9*x[0] - 6*x[1] + 20\n",
    "\n",
    "def grad_func(x):\n",
    "    return np.array([2*x[0] - x[1] + 9, -x[0] + 2*x[1] - 6])\n",
    "\n",
    "x0 = [-400, -400]\n",
    "\n",
    "result = minimize(func, x0, method='L-BFGS-B', jac=grad_func)\n",
    "result"
   ]
  },
  {
   "cell_type": "code",
   "execution_count": 175,
   "metadata": {},
   "outputs": [
    {
     "data": {
      "text/plain": [
       "  message: Optimization terminated successfully.\n",
       "  success: True\n",
       "   status: 0\n",
       "      fun: 42.75\n",
       "        x: [ 1.500e+00]\n",
       "      nit: 4\n",
       "      jac: [ 0.000e+00]\n",
       " hess_inv: [[ 5.000e-01]]\n",
       "     nfev: 5\n",
       "     njev: 5"
      ]
     },
     "execution_count": 175,
     "metadata": {},
     "output_type": "execute_result"
    }
   ],
   "source": [
    "# Задание 4.4\n",
    "def f(x):\n",
    "    return x**2 - 3*x + 45\n",
    "\n",
    "def dx(x):\n",
    "    return 2*x - 3\n",
    "\n",
    "x0 = 10\n",
    "\n",
    "result = minimize(f, x0, method='BFGS', jac=dx)\n",
    "result"
   ]
  },
  {
   "cell_type": "code",
   "execution_count": 176,
   "metadata": {},
   "outputs": [
    {
     "data": {
      "text/plain": [
       "  message: CONVERGENCE: NORM_OF_PROJECTED_GRADIENT_<=_PGTOL\n",
       "  success: True\n",
       "   status: 0\n",
       "      fun: 42.75\n",
       "        x: [ 1.500e+00]\n",
       "      nit: 2\n",
       "      jac: [ 0.000e+00]\n",
       "     nfev: 3\n",
       "     njev: 3\n",
       " hess_inv: <1x1 LbfgsInvHessProduct with dtype=float64>"
      ]
     },
     "execution_count": 176,
     "metadata": {},
     "output_type": "execute_result"
    }
   ],
   "source": [
    "# Задание 4.5\n",
    "minimize(f, x0, method='L-BFGS-B', jac=dx)"
   ]
  },
  {
   "cell_type": "code",
   "execution_count": 177,
   "metadata": {},
   "outputs": [
    {
     "name": "stdout",
     "output_type": "stream",
     "text": [
      "BFGS: \n",
      "   message: Optimization terminated successfully.\n",
      "  success: True\n",
      "   status: 0\n",
      "      fun: 10.000000030008898\n",
      "        x: [ 1.316e-02  6.653e-14]\n",
      "      nit: 34\n",
      "      jac: [ 9.120e-06  7.984e-13]\n",
      " hess_inv: [[ 2.016e+02 -4.163e-09]\n",
      "            [-4.163e-09  7.317e-02]]\n",
      "     nfev: 37\n",
      "     njev: 37 \n",
      "\n",
      "\n",
      "L-BFGS-B:  \n",
      "   message: CONVERGENCE: REL_REDUCTION_OF_F_<=_FACTR*EPSMCH\n",
      "  success: True\n",
      "   status: 0\n",
      "      fun: 10.00000000827103\n",
      "        x: [-9.527e-03 -2.322e-06]\n",
      "      nit: 37\n",
      "      jac: [-3.459e-06 -2.786e-05]\n",
      "     nfev: 40\n",
      "     njev: 40\n",
      " hess_inv: <2x2 LbfgsInvHessProduct with dtype=float64>\n"
     ]
    }
   ],
   "source": [
    "# Задание 4.7\n",
    "def f(dot):\n",
    "    x = dot[0]\n",
    "    y = dot[1]\n",
    "    return x**4 + 6*y**2 + 10\n",
    "\n",
    "def grad_f(dot):\n",
    "    x = dot[0]\n",
    "    y = dot[1]\n",
    "    return np.array([4*x**3, 12*y])\n",
    "\n",
    "x0 = [100, 100]\n",
    "\n",
    "result_1 = minimize(f, x0, method='BFGS', jac=grad_f)\n",
    "result_2 = minimize(f, x0, method='L-BFGS-B', jac=grad_f)\n",
    "print(f'BFGS: \\n {result_1} \\n\\n\\nL-BFGS-B:  \\n {result_2}')"
   ]
  },
  {
   "cell_type": "markdown",
   "metadata": {},
   "source": [
    "---\n",
    "### 6. Практика: линейное программирование"
   ]
  },
  {
   "cell_type": "markdown",
   "metadata": {},
   "source": [
    "**Пример № 1. SciPy (**`scipy.optimize.linprog`**)**\n",
    "\n",
    "У нас есть 6 товаров с заданными ценами на них и заданной массой.\n",
    "\n",
    "Вместимость сумки, в которую мы можем положить товары, заранее известна и равна 15 кг.\n",
    "\n",
    "Какой товар и в каком объёме необходимо взять, чтобы сумма всех цен товаров была максимальной?"
   ]
  },
  {
   "cell_type": "code",
   "execution_count": 178,
   "metadata": {},
   "outputs": [],
   "source": [
    "values = [4, 2, 1, 7, 3, 6] #стоимости товаров\n",
    "weights = [5, 9, 8, 2, 6, 5] #вес товаров\n",
    "C = 15 #вместимость сумки\n",
    "n = 6 #количество товаров"
   ]
  },
  {
   "cell_type": "code",
   "execution_count": 179,
   "metadata": {},
   "outputs": [],
   "source": [
    "c = - np.array(values) #изменяем знак, чтобы перейти от задачи максимизации к задаче минимизации\n",
    "A = np.array(weights)  #конвертируем список с весами в массив\n",
    "A = np.expand_dims(A, 0) #преобразуем размерность массива\n",
    "b = np.array([C]) #конвертируем вместимость в массив"
   ]
  },
  {
   "cell_type": "code",
   "execution_count": 180,
   "metadata": {},
   "outputs": [
    {
     "data": {
      "text/plain": [
       "        message: Optimization terminated successfully. (HiGHS Status 7: Optimal)\n",
       "        success: True\n",
       "         status: 0\n",
       "            fun: -52.5\n",
       "              x: [ 0.000e+00  0.000e+00  0.000e+00  7.500e+00  0.000e+00\n",
       "                   0.000e+00]\n",
       "            nit: 0\n",
       "          lower:  residual: [ 0.000e+00  0.000e+00  0.000e+00  7.500e+00\n",
       "                              0.000e+00  0.000e+00]\n",
       "                 marginals: [ 1.350e+01  2.950e+01  2.700e+01  0.000e+00\n",
       "                              1.800e+01  1.150e+01]\n",
       "          upper:  residual: [       inf        inf        inf        inf\n",
       "                                    inf        inf]\n",
       "                 marginals: [ 0.000e+00  0.000e+00  0.000e+00  0.000e+00\n",
       "                              0.000e+00  0.000e+00]\n",
       "          eqlin:  residual: []\n",
       "                 marginals: []\n",
       "        ineqlin:  residual: [ 0.000e+00]\n",
       "                 marginals: [-3.500e+00]\n",
       " mip_node_count: 0\n",
       " mip_dual_bound: 0.0\n",
       "        mip_gap: 0.0"
      ]
     },
     "execution_count": 180,
     "metadata": {},
     "output_type": "execute_result"
    }
   ],
   "source": [
    "from scipy.optimize import linprog\n",
    "linprog(c=c, A_ub=A, b_ub=b)"
   ]
  },
  {
   "cell_type": "markdown",
   "metadata": {},
   "source": [
    "**Пример № 2. CVXPY**\n",
    "\n",
    "Снова решим задачу из примера № 1, но уже предположим, что товары нельзя дробить, и будем решать задачу целочисленного линейного программирования.\n",
    "\n",
    "*SciPy* не умеет решать такие задачи, поэтому будем использовать новую библиотеку *CVXPY*.\n",
    "\n",
    ">**Важно!** С установкой этот библиотеки порой возникают проблемы. Если вы столкнулись с трудностями, посоветуйтесь с ментором или воспользуйтесь *Google Colaboratory*."
   ]
  },
  {
   "cell_type": "code",
   "execution_count": 181,
   "metadata": {},
   "outputs": [],
   "source": [
    "import cvxpy"
   ]
  },
  {
   "cell_type": "code",
   "execution_count": 182,
   "metadata": {},
   "outputs": [],
   "source": [
    "x = cvxpy.Variable(shape=n, integer = True)"
   ]
  },
  {
   "cell_type": "code",
   "execution_count": 183,
   "metadata": {},
   "outputs": [],
   "source": [
    "A = A.flatten() # Преобразуем размерность массива\n",
    "constraint = cvxpy.sum(cvxpy.multiply(A, x)) <= C\n",
    "total_value = cvxpy.sum(cvxpy.multiply(x, c))"
   ]
  },
  {
   "cell_type": "code",
   "execution_count": 184,
   "metadata": {},
   "outputs": [],
   "source": [
    "problem = cvxpy.Problem(cvxpy.Minimize(total_value), constraints=[constraint])"
   ]
  },
  {
   "cell_type": "code",
   "execution_count": 185,
   "metadata": {},
   "outputs": [
    {
     "data": {
      "text/plain": [
       "-138412039.00000018"
      ]
     },
     "execution_count": 185,
     "metadata": {},
     "output_type": "execute_result"
    }
   ],
   "source": [
    "# Вообще со стадартным солвером должна быть бесконечность, но выдаёт ошибку\n",
    "problem.solve(solver='ECOS_BB')"
   ]
  },
  {
   "cell_type": "code",
   "execution_count": 186,
   "metadata": {},
   "outputs": [
    {
     "name": "stdout",
     "output_type": "stream",
     "text": [
      "49.0\n",
      "[-0. -0. -0.  7. -0.  0.]\n"
     ]
    }
   ],
   "source": [
    "x = cvxpy.Variable(shape=n, integer=True)\n",
    "constraint = (A @ x <= b)\n",
    "x_positive = (x >= 0)\n",
    "total_value = c @ x\n",
    "\n",
    "problem = cvxpy.Problem(\n",
    "    cvxpy.Minimize(total_value), constraints=[constraint, x_positive]\n",
    ")\n",
    "\n",
    "print(-problem.solve())\n",
    "print(x.value)"
   ]
  },
  {
   "cell_type": "markdown",
   "metadata": {},
   "source": [
    "А что если мы можем брать не любое количество товаров, а только один или не брать их вовсе? Задаём $x$ типа *boolean*.\n",
    "\n",
    "$x=0$ или $x=1$\n",
    "\n",
    "Программное решение такой задачи имеет следующий вид:"
   ]
  },
  {
   "cell_type": "code",
   "execution_count": 187,
   "metadata": {},
   "outputs": [
    {
     "name": "stdout",
     "output_type": "stream",
     "text": [
      "17.0\n",
      "[1. 0. 0. 1. 0. 1.]\n"
     ]
    }
   ],
   "source": [
    "x = cvxpy.Variable(shape=n, boolean=True)\n",
    "constraint = (A @ x <= b)\n",
    "x_positive = (x >= 0)\n",
    "total_value = c @ x\n",
    "\n",
    "problem = cvxpy.Problem(\n",
    "    cvxpy.Minimize(total_value), constraints=[constraint, x_positive]\n",
    ")\n",
    "\n",
    "print(-problem.solve())\n",
    "print(x.value)"
   ]
  },
  {
   "cell_type": "markdown",
   "metadata": {},
   "source": [
    "> Обратите внимание, что, используя *SciPy*, мы могли не указывать явно, что $x$ только положительные, так как в линейном программировании считаются только неотрицательные $x$.\n",
    "\n",
    ">А вот *CVXPY* универсальна. Мы просто задали функцию, не указывая, что это линейное программирование. *CVXPY* «поняла», что это задача оптимизации, и использовала нужные алгоритмы. Поэтому здесь ограничение на положительные $x$ мы указывали явно."
   ]
  },
  {
   "cell_type": "markdown",
   "metadata": {},
   "source": [
    "**Пример № 3. PuLP**\n",
    "\n",
    "В нашей каршеринговой компании две модели автомобилей: модель $A$ и модель $B$. Автомобиль $A$ даёт прибыль в размере 20 тысяч в месяц, а автомобиль $B$ — 45 тысяч в месяц. Мы хотим заказать на заводе новые автомобили и максимизировать прибыль. Однако на производство и ввод в эксплуатацию автомобилей понадобится время:\n",
    "\n",
    "* Проектировщику требуется 4 дня, чтобы подготовить документы для производства каждого автомобиля типа $A$, и 5 дней — для каждого автомобиля типа $B$.\n",
    "* Заводу требуется 3 дня, чтобы изготовить модель $A$, и 6 дней, чтобы изготовить модель $B$.\n",
    "* Менеджеру требуется 2 дня, чтобы ввести в эксплуатацию в компании автомобиль $A$, и 7 дней —  автомобиль $B$.\n",
    "* Каждый специалист может работать суммарно 30 дней."
   ]
  },
  {
   "cell_type": "code",
   "execution_count": 188,
   "metadata": {},
   "outputs": [],
   "source": [
    "from pulp import *"
   ]
  },
  {
   "cell_type": "code",
   "execution_count": 189,
   "metadata": {},
   "outputs": [
    {
     "name": "stderr",
     "output_type": "stream",
     "text": [
      "c:\\Users\\Blooodniy\\AppData\\Local\\Programs\\Python\\Python39\\lib\\site-packages\\pulp\\pulp.py:1298: UserWarning: Spaces are not permitted in the name. Converted to '_'\n",
      "  warnings.warn(\"Spaces are not permitted in the name. Converted to '_'\")\n"
     ]
    },
    {
     "name": "stdout",
     "output_type": "stream",
     "text": [
      "Количество автомобилей модели А:  1.0\n",
      "Количество автомобилей модели В:  4.0\n",
      "Суммарный доход:  200000.0\n"
     ]
    }
   ],
   "source": [
    "problem = LpProblem('Производство машин', LpMaximize)\n",
    "A = LpVariable('Автомобиль A', lowBound=0 , cat=LpInteger)\n",
    "B = LpVariable('Автомобиль B', lowBound=0 , cat=LpInteger)\n",
    "#Целевая функция\n",
    "problem += 20000*A + 45000*B \n",
    "#Ограничения\n",
    "problem += 4*A + 5*B <= 30 \n",
    "problem += 3*A + 6*B <=30\n",
    "problem += 2*A + 7*B <=30\n",
    "problem.solve()\n",
    "print(\"Количество автомобилей модели А: \", A.varValue)\n",
    "print(\"Количество автомобилей модели В: \", B.varValue)\n",
    "print(\"Суммарный доход: \", value(problem.objective))\n",
    "#Количество автомобилей модели А:  1.0\n",
    "#Количество автомобилей модели В:  4.0\n",
    "#Суммарный доход:  200000.0"
   ]
  },
  {
   "cell_type": "code",
   "execution_count": 201,
   "metadata": {},
   "outputs": [
    {
     "data": {
      "text/plain": [
       "        message: Optimization terminated successfully. (HiGHS Status 7: Optimal)\n",
       "        success: True\n",
       "         status: 0\n",
       "            fun: 1900.0\n",
       "              x: [ 1.100e+02  0.000e+00  7.000e+01  0.000e+00  1.500e+02\n",
       "                   7.000e+01]\n",
       "            nit: 5\n",
       "          lower:  residual: [ 1.100e+02  0.000e+00  7.000e+01  0.000e+00\n",
       "                              1.500e+02  7.000e+01]\n",
       "                 marginals: [ 0.000e+00  1.000e+00  0.000e+00  2.000e+00\n",
       "                              0.000e+00  0.000e+00]\n",
       "          upper:  residual: [       inf        inf        inf        inf\n",
       "                                    inf        inf]\n",
       "                 marginals: [ 0.000e+00  0.000e+00  0.000e+00  0.000e+00\n",
       "                              0.000e+00  0.000e+00]\n",
       "          eqlin:  residual: []\n",
       "                 marginals: []\n",
       "        ineqlin:  residual: [ 0.000e+00  0.000e+00  0.000e+00  0.000e+00\n",
       "                              0.000e+00]\n",
       "                 marginals: [-3.000e+00 -0.000e+00 -5.000e+00 -7.000e+00\n",
       "                             -6.000e+00]\n",
       " mip_node_count: 0\n",
       " mip_dual_bound: 0.0\n",
       "        mip_gap: 0.0"
      ]
     },
     "execution_count": 201,
     "metadata": {},
     "output_type": "execute_result"
    }
   ],
   "source": [
    "# Задание 6.1\n",
    "c = np.array([2, 5, 3, 7, 7, 6])\n",
    "A = np.array([\n",
    "    [1, 1, 1, 0, 0, 0],\n",
    "    [0, 0, 0, 1, 1, 1],\n",
    "    [-1, 0, 0, -1, 0, 0], \n",
    "    [0, -1, 0, 0, -1, 0],\n",
    "    [0, 0, -1, 0, 0, -1]\n",
    "    ])\n",
    "b = np.array([180, 220, -110, -150, -140])\n",
    "linprog(c=c, A_ub=A, b_ub=b)"
   ]
  },
  {
   "cell_type": "code",
   "execution_count": 279,
   "metadata": {},
   "outputs": [
    {
     "name": "stdout",
     "output_type": "stream",
     "text": [
      "32.0\n",
      "[[ 0.  0. -0.  0.  1.]\n",
      " [ 0.  0.  1.  0.  0.]\n",
      " [ 1. -0.  0.  0.  0.]\n",
      " [ 0.  1.  0.  0. -0.]\n",
      " [-0.  0.  0.  1.  0.]]\n"
     ]
    },
    {
     "data": {
      "text/plain": [
       "array([[ 0.,  0., -0.,  0.,  8.],\n",
       "       [ 0.,  0.,  3.,  0.,  0.],\n",
       "       [10., -0.,  0.,  0.,  0.],\n",
       "       [ 0.,  7.,  0.,  0., -0.],\n",
       "       [-0.,  0.,  0.,  4.,  0.]])"
      ]
     },
     "execution_count": 279,
     "metadata": {},
     "output_type": "execute_result"
    }
   ],
   "source": [
    "# Задание 6.2\n",
    "x = cvxpy.Variable(shape=(5,5), boolean=True)\n",
    "A = np.array([\n",
    "    [1000, 12, 10, 19, 8],\n",
    "    [12, 1000, 3, 7, 2],\n",
    "    [10, 3, 1000, 6, 20],\n",
    "    [19, 7, 6, 1000, 4],\n",
    "    [8, 2, 20, 4, 1000]\n",
    "])\n",
    "constraint_1 = (sum(x) == np.ones(5))\n",
    "constraint_2 = (sum(x.T) == np.ones(5))\n",
    "cost = (cvxpy.multiply(A, x)).sum()\n",
    "problem = cvxpy.Problem(cvxpy.Minimize(cost), constraints=[constraint_1, constraint_2])\n",
    "print(problem.solve())\n",
    "print(x.value)\n",
    "A * x.value"
   ]
  },
  {
   "cell_type": "code",
   "execution_count": 310,
   "metadata": {},
   "outputs": [
    {
     "name": "stdout",
     "output_type": "stream",
     "text": [
      "32.0\n",
      "[[ 0.  0. -0.  0.  1.]\n",
      " [-0.  0.  1. -0. -0.]\n",
      " [ 1. -0.  0.  0.  0.]\n",
      " [ 0.  1.  0.  0.  0.]\n",
      " [-0.  0.  0.  1.  0.]]\n"
     ]
    },
    {
     "data": {
      "text/plain": [
       "array([[ 0.,  0., -0.,  0.,  8.],\n",
       "       [-0.,  0.,  3., -0., -0.],\n",
       "       [10., -0.,  0.,  0.,  0.],\n",
       "       [ 0.,  7.,  0.,  0.,  0.],\n",
       "       [-0.,  0.,  0.,  4.,  0.]])"
      ]
     },
     "execution_count": 310,
     "metadata": {},
     "output_type": "execute_result"
    }
   ],
   "source": [
    "# Задание 6.3\n",
    "A = np.array([\n",
    "    [0, 12, 10, 19, 8],\n",
    "    [12, 0, 3, 7, 2],\n",
    "    [10, 3, 0, 6, 20],\n",
    "    [19, 7, 6, 0, 4],\n",
    "    [8, 2, 20, 4, 0]\n",
    "])\n",
    "x = cvxpy.Variable(shape=(5,5), boolean=True)\n",
    "route = cvxpy.multiply(A, x).sum()\n",
    "constraints = [(sum(x) == np.ones(5)), (sum(x.T) == np.ones(5))]\n",
    "\n",
    "for i in range(5):\n",
    "    for j in range(5):\n",
    "        constraints.append(x[i][j] + x[j][i] <= 1)\n",
    "\n",
    "problem = cvxpy.Problem(cvxpy.Minimize(route), constraints=constraints)\n",
    "print(problem.solve())\n",
    "print(x.value)\n",
    "A * x.value"
   ]
  },
  {
   "cell_type": "code",
   "execution_count": 365,
   "metadata": {},
   "outputs": [
    {
     "name": "stdout",
     "output_type": "stream",
     "text": [
      "44.0\n",
      "[[ 0.  0.  1.  0.  0.  0.]\n",
      " [ 1.  0. -0.  0.  0. -0.]\n",
      " [-0.  1.  0.  0.  0.  0.]\n",
      " [ 0.  0.  0.  0.  1. -0.]\n",
      " [ 0.  0.  0. -0.  0.  1.]\n",
      " [-0. -0.  0.  1.  0.  0.]]\n"
     ]
    },
    {
     "data": {
      "text/plain": [
       "array([[ 0.,  0., 10.,  0.,  0.,  0.],\n",
       "       [10.,  0., -0.,  0.,  0., -0.],\n",
       "       [-0., 10.,  0.,  0.,  0.,  0.],\n",
       "       [ 0.,  0.,  0.,  0.,  5., -0.],\n",
       "       [ 0.,  0.,  0., -0.,  0.,  5.],\n",
       "       [-0., -0.,  0.,  4.,  0.,  0.]])"
      ]
     },
     "execution_count": 365,
     "metadata": {},
     "output_type": "execute_result"
    }
   ],
   "source": [
    "# Более общий пример\n",
    "A = np.array([\n",
    "        [0, 10, 10, 200, 200, 1], \n",
    "        [10, 0, 10, 200, 200, 2], \n",
    "        [10, 10, 0, 200, 200, 3], \n",
    "        [200, 200, 200, 0, 5, 4], \n",
    "        [200, 200, 200, 5, 0, 5],\n",
    "        [1, 2, 3, 4, 5, 0]\n",
    "])\n",
    "x = cvxpy.Variable(shape=A.shape, boolean=True)\n",
    "route = cvxpy.multiply(A, x).sum()\n",
    "constraints = []\n",
    "constraints.append(cvxpy.sum(x, axis=1) == np.ones(A.shape[0]))\n",
    "constraints.append(cvxpy.sum(x, axis=0) == np.ones(A.shape[0]))\n",
    "\n",
    "for i in range(5):\n",
    "    constraints.append(x[i][i] == 0)\n",
    "    \n",
    "for i in range(A.shape[0]):\n",
    "    for j in range(A.shape[0]):\n",
    "        if i != j:\n",
    "            constraints.append(x[i, j] + x[j][i] <= 1)\n",
    "\n",
    "# Нужно добавить условие на связность\n",
    "        \n",
    "problem = cvxpy.Problem(cvxpy.Minimize(route), constraints=constraints)\n",
    "print(problem.solve())\n",
    "print(x.value)\n",
    "A * x.value"
   ]
  },
  {
   "cell_type": "markdown",
   "metadata": {},
   "source": [
    "# <span style=\"color:red\">Нужно придумать условие на связность!</span>"
   ]
  }
 ],
 "metadata": {
  "kernelspec": {
   "display_name": "Python 3",
   "language": "python",
   "name": "python3"
  },
  "language_info": {
   "codemirror_mode": {
    "name": "ipython",
    "version": 3
   },
   "file_extension": ".py",
   "mimetype": "text/x-python",
   "name": "python",
   "nbconvert_exporter": "python",
   "pygments_lexer": "ipython3",
   "version": "3.9.13"
  }
 },
 "nbformat": 4,
 "nbformat_minor": 2
}
